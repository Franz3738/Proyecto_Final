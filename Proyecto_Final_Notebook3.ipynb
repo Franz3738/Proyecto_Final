{
 "cells": [
  {
   "cell_type": "markdown",
   "id": "4ef6c4ca-7d53-4387-9663-5bf78dbc77a9",
   "metadata": {},
   "source": [
    "### Proyecto Final Notebook 3\n",
    "#### Doris Andrea Paz Garcia  \t22005266\n",
    "#### Franz Schubert Castillo Colocho 22003738\n",
    "#### Estuardo Funes 20032042"
   ]
  },
  {
   "cell_type": "code",
   "execution_count": 1,
   "id": "f9377d9a-c12e-4be6-8587-90067ad4d335",
   "metadata": {},
   "outputs": [],
   "source": [
    "#Importamos las librerías \n",
    "import numpy as np\n",
    "import pandas as pd\n",
    "import matplotlib.pyplot as plt \n",
    "import seaborn as sns \n",
    "from scipy import stats\n",
    "\n",
    "from sklearn.linear_model import Lasso\n",
    "from sklearn.metrics import mean_squared_error, r2_score\n",
    "from sklearn.model_selection import train_test_split\n",
    "from sklearn.pipeline import Pipeline\n",
    "from sklearn.preprocessing import MinMaxScaler, Binarizer\n",
    "\n",
    "from feature_engine.imputation import AddMissingIndicator, MeanMedianImputer, CategoricalImputer\n",
    "from feature_engine.encoding import RareLabelEncoder, OrdinalEncoder\n",
    "from feature_engine.transformation import LogTransformer\n",
    "from feature_engine.selection import DropFeatures\n",
    "from feature_engine.wrappers import SklearnTransformerWrapper"
   ]
  },
  {
   "cell_type": "code",
   "execution_count": 2,
   "id": "6d2acb1e-8be7-404d-8b6b-ec3e493da46e",
   "metadata": {},
   "outputs": [
    {
     "data": {
      "text/html": [
       "<div>\n",
       "<style scoped>\n",
       "    .dataframe tbody tr th:only-of-type {\n",
       "        vertical-align: middle;\n",
       "    }\n",
       "\n",
       "    .dataframe tbody tr th {\n",
       "        vertical-align: top;\n",
       "    }\n",
       "\n",
       "    .dataframe thead th {\n",
       "        text-align: right;\n",
       "    }\n",
       "</style>\n",
       "<table border=\"1\" class=\"dataframe\">\n",
       "  <thead>\n",
       "    <tr style=\"text-align: right;\">\n",
       "      <th></th>\n",
       "      <th>bmi</th>\n",
       "      <th>Age</th>\n",
       "      <th>asa_status</th>\n",
       "      <th>baseline_cancer</th>\n",
       "      <th>baseline_charlson</th>\n",
       "      <th>baseline_cvd</th>\n",
       "      <th>baseline_dementia</th>\n",
       "      <th>baseline_diabetes</th>\n",
       "      <th>baseline_digestive</th>\n",
       "      <th>baseline_osteoart</th>\n",
       "      <th>...</th>\n",
       "      <th>complication_rsi</th>\n",
       "      <th>dow</th>\n",
       "      <th>gender</th>\n",
       "      <th>hour</th>\n",
       "      <th>month</th>\n",
       "      <th>moonphase</th>\n",
       "      <th>mort30</th>\n",
       "      <th>mortality_rsi</th>\n",
       "      <th>race</th>\n",
       "      <th>complication</th>\n",
       "    </tr>\n",
       "  </thead>\n",
       "  <tbody>\n",
       "    <tr>\n",
       "      <th>0</th>\n",
       "      <td>19.31</td>\n",
       "      <td>59.2</td>\n",
       "      <td>1</td>\n",
       "      <td>yes</td>\n",
       "      <td>0</td>\n",
       "      <td>no</td>\n",
       "      <td>no</td>\n",
       "      <td>no</td>\n",
       "      <td>no</td>\n",
       "      <td>no</td>\n",
       "      <td>...</td>\n",
       "      <td>-0.57</td>\n",
       "      <td>3</td>\n",
       "      <td>0</td>\n",
       "      <td>7.63</td>\n",
       "      <td>6</td>\n",
       "      <td>1</td>\n",
       "      <td>0</td>\n",
       "      <td>-0.43</td>\n",
       "      <td>1</td>\n",
       "      <td>0</td>\n",
       "    </tr>\n",
       "    <tr>\n",
       "      <th>1</th>\n",
       "      <td>18.73</td>\n",
       "      <td>59.1</td>\n",
       "      <td>0</td>\n",
       "      <td>no</td>\n",
       "      <td>0</td>\n",
       "      <td>no</td>\n",
       "      <td>no</td>\n",
       "      <td>no</td>\n",
       "      <td>no</td>\n",
       "      <td>no</td>\n",
       "      <td>...</td>\n",
       "      <td>0.21</td>\n",
       "      <td>0</td>\n",
       "      <td>0</td>\n",
       "      <td>12.93</td>\n",
       "      <td>0</td>\n",
       "      <td>1</td>\n",
       "      <td>0</td>\n",
       "      <td>-0.41</td>\n",
       "      <td>1</td>\n",
       "      <td>0</td>\n",
       "    </tr>\n",
       "    <tr>\n",
       "      <th>2</th>\n",
       "      <td>21.85</td>\n",
       "      <td>59.0</td>\n",
       "      <td>0</td>\n",
       "      <td>no</td>\n",
       "      <td>0</td>\n",
       "      <td>no</td>\n",
       "      <td>no</td>\n",
       "      <td>no</td>\n",
       "      <td>no</td>\n",
       "      <td>no</td>\n",
       "      <td>...</td>\n",
       "      <td>0.00</td>\n",
       "      <td>2</td>\n",
       "      <td>0</td>\n",
       "      <td>7.68</td>\n",
       "      <td>5</td>\n",
       "      <td>3</td>\n",
       "      <td>0</td>\n",
       "      <td>0.08</td>\n",
       "      <td>1</td>\n",
       "      <td>0</td>\n",
       "    </tr>\n",
       "    <tr>\n",
       "      <th>3</th>\n",
       "      <td>18.49</td>\n",
       "      <td>59.0</td>\n",
       "      <td>1</td>\n",
       "      <td>no</td>\n",
       "      <td>1</td>\n",
       "      <td>no</td>\n",
       "      <td>no</td>\n",
       "      <td>yes</td>\n",
       "      <td>yes</td>\n",
       "      <td>no</td>\n",
       "      <td>...</td>\n",
       "      <td>-0.65</td>\n",
       "      <td>2</td>\n",
       "      <td>1</td>\n",
       "      <td>7.58</td>\n",
       "      <td>4</td>\n",
       "      <td>3</td>\n",
       "      <td>0</td>\n",
       "      <td>-0.32</td>\n",
       "      <td>1</td>\n",
       "      <td>0</td>\n",
       "    </tr>\n",
       "    <tr>\n",
       "      <th>4</th>\n",
       "      <td>19.70</td>\n",
       "      <td>59.0</td>\n",
       "      <td>1</td>\n",
       "      <td>no</td>\n",
       "      <td>0</td>\n",
       "      <td>no</td>\n",
       "      <td>no</td>\n",
       "      <td>no</td>\n",
       "      <td>no</td>\n",
       "      <td>no</td>\n",
       "      <td>...</td>\n",
       "      <td>0.00</td>\n",
       "      <td>0</td>\n",
       "      <td>0</td>\n",
       "      <td>7.88</td>\n",
       "      <td>11</td>\n",
       "      <td>0</td>\n",
       "      <td>0</td>\n",
       "      <td>0.00</td>\n",
       "      <td>1</td>\n",
       "      <td>0</td>\n",
       "    </tr>\n",
       "  </tbody>\n",
       "</table>\n",
       "<p>5 rows × 25 columns</p>\n",
       "</div>"
      ],
      "text/plain": [
       "     bmi   Age  asa_status baseline_cancer  baseline_charlson baseline_cvd  \\\n",
       "0  19.31  59.2           1             yes                  0           no   \n",
       "1  18.73  59.1           0              no                  0           no   \n",
       "2  21.85  59.0           0              no                  0           no   \n",
       "3  18.49  59.0           1              no                  1           no   \n",
       "4  19.70  59.0           1              no                  0           no   \n",
       "\n",
       "  baseline_dementia baseline_diabetes baseline_digestive baseline_osteoart  \\\n",
       "0                no                no                 no                no   \n",
       "1                no                no                 no                no   \n",
       "2                no                no                 no                no   \n",
       "3                no               yes                yes                no   \n",
       "4                no                no                 no                no   \n",
       "\n",
       "   ... complication_rsi dow  gender   hour  month  moonphase  mort30  \\\n",
       "0  ...            -0.57   3       0   7.63      6          1       0   \n",
       "1  ...             0.21   0       0  12.93      0          1       0   \n",
       "2  ...             0.00   2       0   7.68      5          3       0   \n",
       "3  ...            -0.65   2       1   7.58      4          3       0   \n",
       "4  ...             0.00   0       0   7.88     11          0       0   \n",
       "\n",
       "   mortality_rsi  race  complication  \n",
       "0          -0.43     1             0  \n",
       "1          -0.41     1             0  \n",
       "2           0.08     1             0  \n",
       "3          -0.32     1             0  \n",
       "4           0.00     1             0  \n",
       "\n",
       "[5 rows x 25 columns]"
      ]
     },
     "execution_count": 2,
     "metadata": {},
     "output_type": "execute_result"
    }
   ],
   "source": [
    "#Cargamos data para aplicar analisis de datos\n",
    "df = pd.read_csv(\"dataset_proyecto.csv\")\n",
    "df.head()"
   ]
  },
  {
   "cell_type": "markdown",
   "id": "114e3544-6359-4413-9250-88d34236d621",
   "metadata": {},
   "source": [
    "### Tipos de variables "
   ]
  },
  {
   "cell_type": "code",
   "execution_count": 3,
   "id": "c7e94ac4-152f-4678-ad38-ce4a841b34f7",
   "metadata": {},
   "outputs": [],
   "source": [
    "def getDataColTypes(df):\n",
    "    categoricas=[]\n",
    "    continuas=[]\n",
    "    discretas=[]\n",
    "    for colName in df.columns:\n",
    "        if(df[colName].dtype=='O'): \n",
    "            categoricas.append(colName)\n",
    "        else: \n",
    "            if((df[colName].dtype=='int64') or (df[colName].dtypes=='float64')): \n",
    "                if(len(df[colName])<=30):\n",
    "                    discretas.append(colName)\n",
    "                else: \n",
    "                    continuas.append(colName)\n",
    "    return discretas,continuas,categoricas"
   ]
  },
  {
   "cell_type": "markdown",
   "id": "653f622a-dd39-44ff-b922-3ab97719cfa4",
   "metadata": {},
   "source": [
    "#####  Imputación de variables. "
   ]
  },
  {
   "cell_type": "code",
   "execution_count": 4,
   "id": "f12e4e3d-89ae-4a5c-b1a9-402ef72f018a",
   "metadata": {},
   "outputs": [],
   "source": [
    "#Realizamos la imputación en función de lo observado. \n",
    "df['Age'] = df['Age'].fillna(df['Age'].mean())\n",
    "df['bmi'] = df['bmi'].fillna(df['bmi'].mode()[0])\n",
    "df['ccsMort30Rate'] = df['ccsMort30Rate'].fillna(df['ccsMort30Rate'].median())\n",
    "df['hour'] = df['hour'].fillna(df['hour'].median())\n"
   ]
  },
  {
   "cell_type": "markdown",
   "id": "c98b9af1-48e1-49a7-b153-f571c2d5b47d",
   "metadata": {},
   "source": [
    "##### Tratamiento de Outliers "
   ]
  },
  {
   "cell_type": "code",
   "execution_count": 5,
   "id": "6cfbf9b2-88a7-48c2-b9e6-7612e4b2fbe3",
   "metadata": {},
   "outputs": [],
   "source": [
    "## Creamos función para calcular el IQR, Limite inferior y limite superior. \n",
    "\n",
    "dataset = df\n",
    "col = 'bmi' \n",
    "def detectOutliersLimits(dataset,col):\n",
    "    '''\n",
    "    Descripción: Calcula los limites superiores e inferiores para detección de outliers. \n",
    "    Input: dataset->pandas dataframe, col->string nombre de columna\n",
    "    Output: tupla de floats con los limites superior e inferior (LI,LS)\n",
    "    '''\n",
    "    IQR = dataset[col].quantile(0.75)-dataset[col].quantile(0.25)\n",
    "    LI = dataset[col].quantile(0.25) - (IQR*1.75)\n",
    "    LS = dataset[col].quantile(0.75) + (IQR*1.75)\n",
    "    \n",
    "    return LI,LS"
   ]
  },
  {
   "cell_type": "code",
   "execution_count": 6,
   "id": "a345e068-abad-402e-bcbd-a12a57390ed8",
   "metadata": {},
   "outputs": [],
   "source": [
    "def cappingContinuas(dataset):\n",
    "    '''\n",
    "    Descripción: Aplica capping a las variables continuas  y convierte los valores negativos a cero\n",
    "    Input: dataset -> pandas dataframe\n",
    "    Output: pandas dataframe con las variables continuas cappeadas y valores negativos convertidos a cero\n",
    "    '''\n",
    "    continuas, _, _ = getDataColTypes(dataset)\n",
    "    for col in continuas:\n",
    "        LI, LS = detectOutliersLimits(dataset, col)\n",
    "        dataset[col] = np.where(dataset[col] > LS, LS,\n",
    "                                np.where(dataset[col] < LI, LI, dataset[col]))\n",
    "        dataset[col] = np.where(dataset[col] < 0, 0, dataset[col])  # Convertir valores negativos a cero. \n",
    "    return dataset"
   ]
  },
  {
   "cell_type": "code",
   "execution_count": 7,
   "id": "c9086868-8517-4786-a325-13edec8dbeb7",
   "metadata": {},
   "outputs": [],
   "source": [
    "df_capped = cappingContinuas(df)\n"
   ]
  },
  {
   "cell_type": "markdown",
   "id": "af72edd8-0c1c-467c-b194-9003fbb9aa13",
   "metadata": {},
   "source": [
    "##### Codificación de variables categoricas. "
   ]
  },
  {
   "cell_type": "code",
   "execution_count": 8,
   "id": "3edea845-f8db-4b47-9bab-9ab2222ab9eb",
   "metadata": {},
   "outputs": [],
   "source": [
    "#One Hot Encoding. \n",
    "ohe_cancer=pd.get_dummies(df['baseline_cancer'],drop_first=True)\n",
    "ohe_cancer.value_counts()\n",
    "df['baseline_cancer']=ohe_cancer\n",
    "ohe_cvd=pd.get_dummies(df['baseline_cvd'],drop_first=True)\n",
    "ohe_cvd.value_counts()\n",
    "df['baseline_cvd']=ohe_cvd\n",
    "ohe_dementia=pd.get_dummies(df['baseline_dementia'],drop_first=True)\n",
    "ohe_dementia.value_counts()\n",
    "df['baseline_dementia']=ohe_dementia\n",
    "ohe_diabetes=pd.get_dummies(df['baseline_diabetes'],drop_first=True)\n",
    "ohe_diabetes.value_counts()\n",
    "df['baseline_diabetes']=ohe_diabetes\n",
    "ohe_digestive=pd.get_dummies(df['baseline_digestive'],drop_first=True)\n",
    "ohe_digestive.value_counts()\n",
    "df['baseline_digestive']=ohe_digestive\n",
    "ohe_osteoart=pd.get_dummies(df['baseline_osteoart'],drop_first=True)\n",
    "ohe_osteoart.value_counts()\n",
    "df['baseline_osteoart']=ohe_osteoart\n",
    "ohe_psych=pd.get_dummies(df['baseline_psych'],drop_first=True)\n",
    "ohe_psych.value_counts()\n",
    "df['baseline_psych']=ohe_psych\n",
    "ohe_pulmonary=pd.get_dummies(df['baseline_pulmonary'],drop_first=True)\n",
    "ohe_pulmonary.value_counts()\n",
    "df['baseline_pulmonary']=ohe_pulmonary\n"
   ]
  },
  {
   "cell_type": "code",
   "execution_count": 9,
   "id": "e5adec2a-aa0e-48fb-870d-bb478be1e7b5",
   "metadata": {},
   "outputs": [],
   "source": [
    "from sklearn.model_selection import train_test_split\n",
    "\n",
    "# Define tus características y la variable objetivo\n",
    "X = df.drop(['complication'], axis=1)\n",
    "y = df['complication']\n",
    "\n",
    "# Divide los datos en conjuntos de entrenamiento y prueba\n",
    "X_train, X_test, y_train, y_test = train_test_split(X, y, test_size=0.3, random_state=2022)\n"
   ]
  },
  {
   "cell_type": "code",
   "execution_count": 11,
   "id": "3e168f5b-e914-44eb-ad5b-bd2c708bc255",
   "metadata": {},
   "outputs": [],
   "source": [
    "# Imputación de variables categóricas\n",
    "VARS_CATEGORICAS_CON_NA_FRECUENTE = ['baseline_cancer', 'baseline_cvd', 'baseline_dementia', \n",
    "                                     'baseline_diabetes', 'baseline_digestive', 'baseline_osteoart', \n",
    "                                     'baseline_psych', 'baseline_pulmonary']\n",
    "\n",
    "# Imputación de variables numéricas\n",
    "VARS_NUMERICAS_CON_NA = ['bmi', 'Age','ccsMort30Rate','hour']\n",
    "\n",
    "# Variables para transformación logarítmica\n",
    "VARS_NUMERICAS_LOG = ['bmi', 'Age']\n",
    "\n",
    "# Variables para codificación por frecuencia (no ordinal)\n",
    "VARS_CATEGORICAS = ['asa_status', 'ahrq_ccs', 'dow', 'gender', 'month', 'moonphase', 'mort30', 'race']\n",
    "\n",
    "# Variables a utilizar en el entrenamiento\n",
    "FEATURES = [\n",
    "    'bmi', 'Age', 'asa_status', 'baseline_cancer', 'baseline_charlson', \n",
    "    'baseline_cvd', 'baseline_dementia', 'baseline_diabetes', \n",
    "    'baseline_digestive', 'baseline_osteoart', 'baseline_psych', \n",
    "    'baseline_pulmonary', 'ahrq_ccs', 'ccsComplicationRate', 'ccsMort30Rate', \n",
    "    'complication_rsi', 'dow', 'gender', 'hour', 'month', 'moonphase', 'mort30', \n",
    "    'mortality_rsi', 'race'\n",
    "]"
   ]
  },
  {
   "cell_type": "code",
   "execution_count": 12,
   "id": "6fc6c8dc-1576-4f20-a4b0-f8642b652ac9",
   "metadata": {},
   "outputs": [],
   "source": [
    "# Convertir las variables categóricas a tipo object\n",
    "for var in VARS_CATEGORICAS:\n",
    "    X_train[var] = X_train[var].astype('object')\n",
    "    X_test[var] = X_test[var].astype('object')"
   ]
  },
  {
   "cell_type": "code",
   "execution_count": 13,
   "id": "f6d05e25-82c1-4d0f-a064-798a4e818c26",
   "metadata": {},
   "outputs": [],
   "source": [
    "X_train = X_train[FEATURES]"
   ]
  },
  {
   "cell_type": "markdown",
   "id": "50d0c2bd-39d2-490c-85ba-46ed0567707e",
   "metadata": {},
   "source": [
    "### Desarrollo de modelos de clasificación "
   ]
  },
  {
   "cell_type": "code",
   "execution_count": 15,
   "id": "b6487aa1-eb51-4951-ae0f-f1400ecf7576",
   "metadata": {},
   "outputs": [],
   "source": [
    "from sklearn.metrics import accuracy_score \n",
    "from sklearn.metrics import roc_auc_score\n",
    "\n",
    "from sklearn.model_selection import train_test_split \n",
    "\n",
    "from sklearn.preprocessing import StandardScaler"
   ]
  },
  {
   "cell_type": "markdown",
   "id": "398d118c-39c1-47c6-84d7-3a3c9f65fbe5",
   "metadata": {},
   "source": [
    "### Regresión Logistica"
   ]
  },
  {
   "cell_type": "code",
   "execution_count": 16,
   "id": "0c87c931-31b7-4815-9194-c764232a2c80",
   "metadata": {},
   "outputs": [
    {
     "name": "stdout",
     "output_type": "stream",
     "text": [
      "[0 0 0 ... 0 0 1]\n"
     ]
    }
   ],
   "source": [
    "from sklearn.linear_model import LogisticRegression\n",
    "from sklearn.preprocessing import StandardScaler\n",
    "\n",
    "# Crear una instancia del escalador\n",
    "scaler = StandardScaler()\n",
    "\n",
    "# Estandarizar las características de entrenamiento y prueba\n",
    "X_train_std = scaler.fit_transform(X_train)\n",
    "X_test_std = scaler.transform(X_test)\n",
    "\n",
    "# Crear una instancia del modelo de regresión logística\n",
    "logit = LogisticRegression()\n",
    "\n",
    "# Ajustar el modelo a los datos de entrenamiento\n",
    "logit.fit(X_train_std, y_train)\n",
    "\n",
    "# Realizar predicciones en los datos de prueba\n",
    "logit_preds = logit.predict(X_test_std)\n",
    "\n",
    "# Mostrar las predicciones\n",
    "print(logit_preds)\n",
    "\n"
   ]
  },
  {
   "cell_type": "code",
   "execution_count": 17,
   "id": "704f09c3-f1ca-4eb5-9e2b-52701679b444",
   "metadata": {},
   "outputs": [],
   "source": [
    "import warnings \n",
    "warnings.filterwarnings(\"ignore\")"
   ]
  },
  {
   "cell_type": "code",
   "execution_count": 18,
   "id": "75d78d4a-b8ba-4f6c-b754-c5cb56cf6fd1",
   "metadata": {},
   "outputs": [],
   "source": [
    "acc = round(accuracy_score(y_test,logit_preds),4)\n",
    "roc_auc = round(roc_auc_score(y_test,logit_preds),4)"
   ]
  },
  {
   "cell_type": "code",
   "execution_count": 19,
   "id": "c62086f3-8225-4b42-bfb6-138d1f3cdf95",
   "metadata": {},
   "outputs": [
    {
     "name": "stdout",
     "output_type": "stream",
     "text": [
      "Accuracy:0.7957\n",
      "ROC-AUC:0.6569\n"
     ]
    }
   ],
   "source": [
    "print(f\"Accuracy:{acc}\")\n",
    "print(f\"ROC-AUC:{roc_auc}\")"
   ]
  },
  {
   "cell_type": "code",
   "execution_count": 20,
   "id": "4b3c4e2a-4533-4222-9408-d986f665de3e",
   "metadata": {},
   "outputs": [
    {
     "name": "stdout",
     "output_type": "stream",
     "text": [
      "Mejores Hyperparametros:{'C': 1, 'fit_intercept': True, 'penalty': 'l1'}\n",
      "Mejor Metrica:0.8038388176117344\n",
      "Mean Accuracy:0.7536119249131944\n",
      "Mean ROC_AUC:0.8031188393303905\n"
     ]
    }
   ],
   "source": [
    "from sklearn.model_selection import GridSearchCV, KFold \n",
    "\n",
    "logit = LogisticRegression(solver='saga')\n",
    "hyperparams_grid = {'penalty':['l1', 'l2', 'elasticnet', None],\n",
    "                    'C':[0.01,0.1,1,10],\n",
    "                    'fit_intercept':[True,False]\n",
    "}\n",
    "\n",
    "grid_search=GridSearchCV(estimator=logit,param_grid=hyperparams_grid,scoring=['roc_auc','accuracy'],refit='roc_auc',\n",
    "                        n_jobs=-1,cv=KFold(n_splits=20,shuffle=True,random_state=2023))\n",
    "\n",
    "grid_search.fit(X_train_std,y_train)\n",
    "\n",
    "accuracies = grid_search.cv_results_['mean_test_accuracy']\n",
    "roc_aucs = grid_search.cv_results_['mean_test_roc_auc']\n",
    "mean_acc = np.mean([x for x in accuracies if not np.isnan(x)])\n",
    "mean_roc_aucs = np.mean([x for x in roc_aucs if not np.isnan(x)])\n",
    "\n",
    "\n",
    "print(f'Mejores Hyperparametros:{grid_search.best_params_}')\n",
    "print(f'Mejor Metrica:{grid_search.best_score_}')\n",
    "print(f'Mean Accuracy:{mean_acc}')\n",
    "print(f'Mean ROC_AUC:{mean_roc_aucs}')"
   ]
  },
  {
   "cell_type": "markdown",
   "id": "f7e1081f-94fa-4732-9ffb-40dfc344cb39",
   "metadata": {},
   "source": [
    "#### Random Forest"
   ]
  },
  {
   "cell_type": "code",
   "execution_count": 21,
   "id": "54458e86-7bad-4a09-ace2-c01720dddf8a",
   "metadata": {},
   "outputs": [
    {
     "name": "stdout",
     "output_type": "stream",
     "text": [
      "Mejores Hyperparametros: {'bootstrap': False, 'criterion': 'entropy', 'max_depth': 25, 'n_estimators': 1000}\n",
      "Mejor Métrica: 0.9184326064884253\n",
      "Mean Accuracy: 0.8542367330411585\n",
      "Mean ROC_AUC: 0.9029492856715202\n"
     ]
    }
   ],
   "source": [
    "from sklearn.ensemble import RandomForestClassifier\n",
    "from sklearn.model_selection import GridSearchCV, KFold\n",
    "\n",
    "random_forest = RandomForestClassifier()\n",
    "\n",
    "hyperparams_grid = {\n",
    "    'n_estimators': [500, 1000],\n",
    "    'criterion': ['gini', 'entropy'],\n",
    "    'max_depth': [10, 25],\n",
    "    'bootstrap': [True, False]\n",
    "}\n",
    "\n",
    "grid_search = GridSearchCV(\n",
    "    estimator=random_forest,\n",
    "    param_grid=hyperparams_grid,\n",
    "    scoring=['roc_auc', 'accuracy'],\n",
    "    refit='roc_auc',\n",
    "    n_jobs=-1,\n",
    "    cv=KFold(n_splits=10, shuffle=True, random_state=2023)\n",
    ")\n",
    "\n",
    "grid_search.fit(X_train_std, y_train)\n",
    "\n",
    "accuracies = grid_search.cv_results_['mean_test_accuracy']\n",
    "roc_aucs = grid_search.cv_results_['mean_test_roc_auc']\n",
    "mean_acc = np.mean([x for x in accuracies if not np.isnan(x)])\n",
    "mean_roc_aucs = np.mean([x for x in roc_aucs if not np.isnan(x)])\n",
    "\n",
    "print(f'Mejores Hyperparametros: {grid_search.best_params_}')\n",
    "print(f'Mejor Métrica: {grid_search.best_score_}')\n",
    "print(f'Mean Accuracy: {mean_acc}')\n",
    "print(f'Mean ROC_AUC: {mean_roc_aucs}')\n"
   ]
  },
  {
   "cell_type": "markdown",
   "id": "b8750f70-b618-4a3e-b4f1-97c5b2101a68",
   "metadata": {},
   "source": [
    "#### Naive Bayes"
   ]
  },
  {
   "cell_type": "code",
   "execution_count": 22,
   "id": "663e2b07-0199-4789-b592-5436205de113",
   "metadata": {},
   "outputs": [
    {
     "name": "stdout",
     "output_type": "stream",
     "text": [
      "[0 0 0 ... 0 0 1]\n",
      "Mejores hiperparametros: {'var_smoothing': 1.0}\n",
      "Mejor métrica: 0.7818229738591997\n",
      "Accuracy: 0.7761329993167844\n",
      "ROC-AUC: 0.6731866005595765\n"
     ]
    }
   ],
   "source": [
    "from sklearn.naive_bayes import GaussianNB\n",
    "naive_bayes = GaussianNB()\n",
    "naive_bayes.fit(X_train_std, y_train)\n",
    "naive_bayes_preds = naive_bayes.predict(X_test_std)\n",
    "print(naive_bayes_preds)\n",
    "from sklearn.model_selection import GridSearchCV\n",
    "param_grid = {'var_smoothing': np.logspace(0,-9, num=100)}\n",
    "grid_search = GridSearchCV(GaussianNB(), param_grid, cv=5, scoring='accuracy')\n",
    "grid_search.fit(X_train_std, y_train)\n",
    "print(f'Mejores hiperparametros: {grid_search.best_params_}')\n",
    "print(f'Mejor métrica: {grid_search.best_score_}')\n",
    "# Calcular la precisión y el AUC-ROC\n",
    "naive_bayes_acc = accuracy_score(y_test, naive_bayes_preds)\n",
    "naive_bayes_roc_auc = roc_auc_score(y_test, naive_bayes_preds)\n",
    "# Imprimir la precisión y el AUC-ROC\n",
    "print(f'Accuracy: {naive_bayes_acc}')\n",
    "print(f'ROC-AUC: {naive_bayes_roc_auc}')"
   ]
  },
  {
   "cell_type": "markdown",
   "id": "62bd38c3-5fb6-4027-8f8c-e2c75f4cf5c9",
   "metadata": {},
   "source": [
    "#### LDA (Linear Discriminant Analysis)"
   ]
  },
  {
   "cell_type": "code",
   "execution_count": 23,
   "id": "39b0b590-cbb3-461c-a469-6c5d7fb0cb97",
   "metadata": {},
   "outputs": [
    {
     "name": "stdout",
     "output_type": "stream",
     "text": [
      "Mejores hiperparametros: {'shrinkage': 'auto', 'solver': 'lsqr'}\n",
      "Mejor Metrica: 0.7954897491916788\n",
      "Accuracy: 0.7927579139148258\n",
      "ROC-AUC: 0.662114884136198\n"
     ]
    }
   ],
   "source": [
    "from sklearn.discriminant_analysis import LinearDiscriminantAnalysis\n",
    "lda = LinearDiscriminantAnalysis()\n",
    "lda.fit(X_train_std, y_train)\n",
    "lda_preds = lda.predict(X_test_std)\n",
    "param_grid_lda = {'solver': ['svd', 'lsqr', 'eigen'], 'shrinkage': [None, 'auto']}\n",
    "grid_search_lda = GridSearchCV(LinearDiscriminantAnalysis(), param_grid_lda, cv=5, scoring='accuracy')\n",
    "grid_search_lda.fit(X_train_std, y_train)\n",
    "print(f'Mejores hiperparametros: {grid_search_lda.best_params_}')\n",
    "print(f'Mejor Metrica: {grid_search_lda.best_score_}')\n",
    "# Calcular la precisión y el AUC-ROC\n",
    "lda_acc = accuracy_score(y_test, lda_preds)\n",
    "lda_roc_auc = roc_auc_score(y_test, lda_preds)\n",
    "# Imprimir la precisión y el AUC-ROC\n",
    "print(f'Accuracy: {lda_acc}')\n",
    "print(f'ROC-AUC: {lda_roc_auc}')"
   ]
  },
  {
   "cell_type": "markdown",
   "id": "762b7dbe-da2b-4483-8716-a2e1d61861cc",
   "metadata": {},
   "source": [
    "#### SVM "
   ]
  },
  {
   "cell_type": "code",
   "execution_count": 24,
   "id": "6e703589-e7cb-474e-bbfb-4ecc56048b96",
   "metadata": {},
   "outputs": [
    {
     "name": "stdout",
     "output_type": "stream",
     "text": [
      "Mejor hiperparametros: {'C': 1, 'tol': 0.01}\n",
      "Mejor metrica: 0.7957822889976818\n",
      "Accuracy: 0.7918469596902755\n",
      "ROC-AUC: 0.6403935759973731\n"
     ]
    }
   ],
   "source": [
    "from sklearn.svm import SVC\n",
    "from sklearn.model_selection import GridSearchCV\n",
    "from sklearn.metrics import accuracy_score, roc_auc_score\n",
    "\n",
    "svm = SVC(kernel='linear', C=1, tol=0.01)\n",
    "svm.fit(X_train_std, y_train)\n",
    "\n",
    "svm_preds = svm.predict(X_test_std)\n",
    "\n",
    "param_grid_svm = {'C': [0.1, 1, 10], 'tol': [0.01, 0.001, 0.0001]}\n",
    "grid_search_svm = GridSearchCV(SVC(kernel='linear'), param_grid_svm, cv=5, scoring='accuracy', n_jobs=-1)\n",
    "grid_search_svm.fit(X_train_std, y_train)\n",
    "\n",
    "print(f'Mejor hiperparametros: {grid_search_svm.best_params_}')\n",
    "print(f'Mejor metrica: {grid_search_svm.best_score_}')\n",
    "\n",
    "# Calcular la precisión y el AUC-ROC\n",
    "svm_acc = accuracy_score(y_test, svm_preds)\n",
    "svm_roc_auc = roc_auc_score(y_test, svm_preds)\n",
    "\n",
    "# Imprimir la precisión y el AUC-ROC\n",
    "print(f'Accuracy: {svm_acc}')\n",
    "print(f'ROC-AUC: {svm_roc_auc}')\n"
   ]
  },
  {
   "cell_type": "markdown",
   "id": "f346e90a-1de2-4681-a3ab-a2a62cc62afd",
   "metadata": {},
   "source": [
    "#### Arbol de decisión"
   ]
  },
  {
   "cell_type": "code",
   "execution_count": 25,
   "id": "db642287-5255-43c2-8c73-568a93fe771f",
   "metadata": {},
   "outputs": [
    {
     "name": "stdout",
     "output_type": "stream",
     "text": [
      "Best parameters: {'criterion': 'entropy', 'max_depth': 10, 'min_samples_leaf': 4, 'min_samples_split': 2}\n",
      "Best score: 0.8913503919594925\n",
      "Accuracy: 0.8533363698474151\n",
      "ROC-AUC: 0.8078616147389502\n"
     ]
    }
   ],
   "source": [
    "from sklearn.tree import DecisionTreeClassifier\n",
    "dt = DecisionTreeClassifier()\n",
    "dt.fit(X_train_std, y_train)\n",
    "dt_preds = dt.predict(X_test_std)\n",
    "param_grid_dt = {'criterion': ['gini', 'entropy'], 'max_depth': [None, 2, 4, 6, 8, 10], 'min_samples_split': [2, 5, 10], 'min_samples_leaf': [1, 2, 4]}\n",
    "grid_search_dt = GridSearchCV(DecisionTreeClassifier(), param_grid_dt, cv=5, scoring='accuracy')\n",
    "grid_search_dt.fit(X_train_std, y_train)\n",
    "# Obtener los mejores hiperparámetros\n",
    "print(f'Best parameters: {grid_search_dt.best_params_}')\n",
    "print(f'Best score: {grid_search_dt.best_score_}')\n",
    "dt_acc = accuracy_score(y_test, dt_preds)\n",
    "dt_roc_auc = roc_auc_score(y_test, dt_preds)\n",
    "# Imprimir la precisión y el AUC-ROC\n",
    "print(f'Accuracy: {dt_acc}')\n",
    "print(f'ROC-AUC: {dt_roc_auc}')\n"
   ]
  },
  {
   "cell_type": "markdown",
   "id": "18d7f9c8-e85f-4b46-aef1-3028dc9df708",
   "metadata": {},
   "source": [
    "#### Quadratic Discriminant Analysis (QDA)"
   ]
  },
  {
   "cell_type": "code",
   "execution_count": 26,
   "id": "bd23ec47-272b-481b-8d48-1853567d6908",
   "metadata": {},
   "outputs": [
    {
     "name": "stdout",
     "output_type": "stream",
     "text": [
      "[0 0 0 ... 0 0 1]\n"
     ]
    }
   ],
   "source": [
    "from sklearn.discriminant_analysis import QuadraticDiscriminantAnalysis\n",
    "qda = QuadraticDiscriminantAnalysis()\n",
    "qda.fit(X_train_std, y_train)\n",
    "qda_preds = qda.predict(X_test_std)\n",
    "print(qda_preds)"
   ]
  },
  {
   "cell_type": "code",
   "execution_count": 27,
   "id": "0c8c21c0-4d34-4cb7-af24-b80b28728056",
   "metadata": {},
   "outputs": [
    {
     "name": "stdout",
     "output_type": "stream",
     "text": [
      "Mejores hiperparámetros: {'reg_param': 0.5}\n",
      "Mejor métrica: 0.7842631885980966\n",
      "Accuracy: 0.7784103848781598\n",
      "ROC-AUC: 0.6654670509344818\n"
     ]
    }
   ],
   "source": [
    "param_grid_qda = {'reg_param': [0.0, 0.5, 1.0]}\n",
    "grid_search_qda = GridSearchCV(QuadraticDiscriminantAnalysis(), param_grid_qda, cv=5, scoring='accuracy')\n",
    "grid_search_qda.fit(X_train_std, y_train)\n",
    "# Obtener los mejores hiperparámetros\n",
    "print(f'Mejores hiperparámetros: {grid_search_qda.best_params_}')\n",
    "print(f'Mejor métrica: {grid_search_qda.best_score_}')\n",
    "# Calcular la precisión y el AUC-ROC\n",
    "qda_acc = accuracy_score(y_test, qda_preds)\n",
    "qda_roc_auc = roc_auc_score(y_test, qda_preds)\n",
    "# Imprimir la precisión y el AUC-ROC\n",
    "print(f'Accuracy: {qda_acc}')\n",
    "print(f'ROC-AUC: {qda_roc_auc}')"
   ]
  },
  {
   "cell_type": "markdown",
   "id": "5f911ecf-4867-40d8-99bb-2aa109ad21b0",
   "metadata": {},
   "source": [
    "### AdaBoost"
   ]
  },
  {
   "cell_type": "code",
   "execution_count": 28,
   "id": "917c5b1e-9436-42c4-928b-c58b3b7c0d00",
   "metadata": {},
   "outputs": [
    {
     "name": "stdout",
     "output_type": "stream",
     "text": [
      "Mejores hiperparámetros: {'learning_rate': 1.0, 'n_estimators': 150}\n",
      "Mejor métrica: 0.8988668729410687\n",
      "Accuracy: 0.8925074015030745\n",
      "ROC-AUC: 0.8244027702018764\n"
     ]
    }
   ],
   "source": [
    "from sklearn.ensemble import AdaBoostClassifier\n",
    "ada = AdaBoostClassifier()\n",
    "ada.fit(X_train_std, y_train)\n",
    "ada_preds = ada.predict(X_test_std)\n",
    "# Calcular la precisión y el AUC-ROC\n",
    "ada_acc = accuracy_score(y_test, ada_preds)\n",
    "ada_roc_auc = roc_auc_score(y_test, ada_preds)\n",
    "param_grid_ada = {'n_estimators': [50, 100, 150, 200], 'learning_rate': [0.001, 0.01, 0.1, 1.0]}\n",
    "grid_search_ada = GridSearchCV(AdaBoostClassifier(), param_grid_ada, cv=5, scoring='accuracy')\n",
    "grid_search_ada.fit(X_train_std, y_train)\n",
    "# Obtener los mejores hiperparámetros\n",
    "print(f'Mejores hiperparámetros: {grid_search_ada.best_params_}')\n",
    "print(f'Mejor métrica: {grid_search_ada.best_score_}')\n",
    "\n",
    "# Imprimir la precisión y el AUC-ROC\n",
    "print(f'Accuracy: {ada_acc}')\n",
    "print(f'ROC-AUC: {ada_roc_auc}')"
   ]
  },
  {
   "cell_type": "markdown",
   "id": "be03987a-2b11-4601-b898-7cbda6e32e71",
   "metadata": {},
   "source": [
    "### XGBoost"
   ]
  },
  {
   "cell_type": "code",
   "execution_count": 34,
   "id": "aba8fd46-58b5-4434-9458-f43eaf4074f1",
   "metadata": {},
   "outputs": [
    {
     "name": "stdout",
     "output_type": "stream",
     "text": [
      "Mejores hiperparámetros: {'colsample_bytree': 1.0, 'learning_rate': 0.2, 'max_depth': 3, 'n_estimators': 100, 'subsample': 1.0}\n",
      "Mejor métrica: 0.9132170037213274\n",
      "Accuracy: 0.9068549305397404\n",
      "ROC-AUC: 0.844471808148323\n"
     ]
    }
   ],
   "source": [
    "from xgboost import XGBClassifier\n",
    "xgb = XGBClassifier()\n",
    "xgb.fit(X_train_std, y_train)\n",
    "xgb_preds = xgb.predict(X_test_std)\n",
    "# Definir los hiperparámetros a ajustar\n",
    "param_grid_xgb = {\n",
    "    'n_estimators': [100, 200, 300],\n",
    "    'learning_rate': [0.01, 0.1, 0.2],\n",
    "    'max_depth': [3, 4, 5],\n",
    "    'subsample': [0.5, 0.7, 1.0],\n",
    "    'colsample_bytree': [0.5, 0.7, 1.0]\n",
    "}\n",
    "\n",
    "# Crear una instancia de GridSearchCV\n",
    "grid_search_xgb = GridSearchCV(XGBClassifier(), param_grid_xgb, cv=5, scoring='accuracy')\n",
    "\n",
    "# Ajustar GridSearchCV a los datos de entrenamiento\n",
    "grid_search_xgb.fit(X_train_std, y_train)\n",
    "\n",
    "# Obtener los mejores hiperparámetros\n",
    "print(f'Mejores hiperparámetros: {grid_search_xgb.best_params_}')\n",
    "print(f'Mejor métrica: {grid_search_xgb.best_score_}')\n",
    "# Calcular la precisión y el AUC-ROC\n",
    "xgb_acc = accuracy_score(y_test, xgb_preds)\n",
    "xgb_roc_auc = roc_auc_score(y_test, xgb_preds)\n",
    "\n",
    "# Imprimir la precisión y el AUC-ROC\n",
    "print(f'Accuracy: {xgb_acc}')\n",
    "print(f'ROC-AUC: {xgb_roc_auc}')\n"
   ]
  },
  {
   "cell_type": "markdown",
   "id": "d89577b2-7bc9-44c3-a862-84ec36182842",
   "metadata": {},
   "source": [
    "### LGBM"
   ]
  },
  {
   "cell_type": "code",
   "execution_count": 37,
   "id": "d0826003-9267-4795-8e6b-307684eadce7",
   "metadata": {},
   "outputs": [
    {
     "name": "stdout",
     "output_type": "stream",
     "text": [
      "Mejores hiperparámetros: {'colsample_bytree': 0.7, 'learning_rate': 0.2, 'max_depth': 5, 'n_estimators': 100, 'subsample': 0.5}\n",
      "Mejor métrica: 0.9129244162548804\n",
      "Accuracy: 0.9107264859940788\n",
      "ROC-AUC: 0.8465000692007717\n"
     ]
    }
   ],
   "source": [
    "from lightgbm import LGBMClassifier\n",
    "lgbm = LGBMClassifier()\n",
    "lgbm.fit(X_train_std, y_train)\n",
    "lgbm_preds = lgbm.predict(X_test_std)\n",
    "param_grid_lgbm = {\n",
    "    'n_estimators': [100, 200, 300],\n",
    "    'learning_rate': [0.01, 0.1, 0.2],\n",
    "    'max_depth': [3, 4, 5],\n",
    "    'subsample': [0.5, 0.7, 1.0],\n",
    "    'colsample_bytree': [0.5, 0.7, 1.0]\n",
    "}\n",
    "grid_search_lgbm = GridSearchCV(LGBMClassifier(), param_grid_lgbm, cv=5, scoring='accuracy')\n",
    "grid_search_lgbm.fit(X_train_std, y_train)\n",
    "# Obtener los mejores hiperparámetros\n",
    "print(f'Mejores hiperparámetros: {grid_search_lgbm.best_params_}')\n",
    "print(f'Mejor métrica: {grid_search_lgbm.best_score_}')\n",
    "\n",
    "# Calcular la precisión y el AUC-ROC\n",
    "lgbm_acc = accuracy_score(y_test, lgbm_preds)\n",
    "lgbm_roc_auc = roc_auc_score(y_test, lgbm_preds)\n",
    "\n",
    "# Imprimir la precisión y el AUC-ROC\n",
    "print(f'Accuracy: {lgbm_acc}')\n",
    "print(f'ROC-AUC: {lgbm_roc_auc}')"
   ]
  },
  {
   "cell_type": "markdown",
   "id": "830697b4-106c-41a8-a818-ab6d95d41a8c",
   "metadata": {},
   "source": [
    "#### Comparación de todos los modelos"
   ]
  }
 ],
 "metadata": {
  "kernelspec": {
   "display_name": "Python 3 (ipykernel)",
   "language": "python",
   "name": "python3"
  },
  "language_info": {
   "codemirror_mode": {
    "name": "ipython",
    "version": 3
   },
   "file_extension": ".py",
   "mimetype": "text/x-python",
   "name": "python",
   "nbconvert_exporter": "python",
   "pygments_lexer": "ipython3",
   "version": "3.9.13"
  }
 },
 "nbformat": 4,
 "nbformat_minor": 5
}
