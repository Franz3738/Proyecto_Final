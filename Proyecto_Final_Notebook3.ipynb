{
 "cells": [
  {
   "cell_type": "markdown",
   "id": "4ef6c4ca-7d53-4387-9663-5bf78dbc77a9",
   "metadata": {},
   "source": [
    "### Proyecto Final Notebook 3\n",
    "#### Doris Andrea Paz Garcia  \t22005266\n",
    "#### Franz Schubert Castillo Colocho 22003738\n",
    "#### Estuardo Funes 20032042"
   ]
  },
  {
   "cell_type": "code",
   "execution_count": 70,
   "id": "f9377d9a-c12e-4be6-8587-90067ad4d335",
   "metadata": {},
   "outputs": [],
   "source": [
    "#Importamos las librerías \n",
    "import numpy as np\n",
    "import pandas as pd\n",
    "import matplotlib.pyplot as plt \n",
    "import seaborn as sns \n",
    "from scipy import stats\n",
    "\n",
    "from sklearn.linear_model import Lasso\n",
    "from sklearn.metrics import mean_squared_error, r2_score\n",
    "from sklearn.model_selection import train_test_split\n",
    "from sklearn.pipeline import Pipeline\n",
    "from sklearn.preprocessing import MinMaxScaler, Binarizer\n",
    "\n",
    "from feature_engine.imputation import AddMissingIndicator, MeanMedianImputer, CategoricalImputer\n",
    "from feature_engine.encoding import RareLabelEncoder, OrdinalEncoder\n",
    "from feature_engine.transformation import LogTransformer\n",
    "from feature_engine.selection import DropFeatures\n",
    "from feature_engine.wrappers import SklearnTransformerWrapper"
   ]
  },
  {
   "cell_type": "code",
   "execution_count": 71,
   "id": "6d2acb1e-8be7-404d-8b6b-ec3e493da46e",
   "metadata": {},
   "outputs": [
    {
     "data": {
      "text/html": [
       "<div>\n",
       "<style scoped>\n",
       "    .dataframe tbody tr th:only-of-type {\n",
       "        vertical-align: middle;\n",
       "    }\n",
       "\n",
       "    .dataframe tbody tr th {\n",
       "        vertical-align: top;\n",
       "    }\n",
       "\n",
       "    .dataframe thead th {\n",
       "        text-align: right;\n",
       "    }\n",
       "</style>\n",
       "<table border=\"1\" class=\"dataframe\">\n",
       "  <thead>\n",
       "    <tr style=\"text-align: right;\">\n",
       "      <th></th>\n",
       "      <th>bmi</th>\n",
       "      <th>Age</th>\n",
       "      <th>asa_status</th>\n",
       "      <th>baseline_cancer</th>\n",
       "      <th>baseline_charlson</th>\n",
       "      <th>baseline_cvd</th>\n",
       "      <th>baseline_dementia</th>\n",
       "      <th>baseline_diabetes</th>\n",
       "      <th>baseline_digestive</th>\n",
       "      <th>baseline_osteoart</th>\n",
       "      <th>...</th>\n",
       "      <th>complication_rsi</th>\n",
       "      <th>dow</th>\n",
       "      <th>gender</th>\n",
       "      <th>hour</th>\n",
       "      <th>month</th>\n",
       "      <th>moonphase</th>\n",
       "      <th>mort30</th>\n",
       "      <th>mortality_rsi</th>\n",
       "      <th>race</th>\n",
       "      <th>complication</th>\n",
       "    </tr>\n",
       "  </thead>\n",
       "  <tbody>\n",
       "    <tr>\n",
       "      <th>0</th>\n",
       "      <td>19.31</td>\n",
       "      <td>59.2</td>\n",
       "      <td>1</td>\n",
       "      <td>yes</td>\n",
       "      <td>0</td>\n",
       "      <td>no</td>\n",
       "      <td>no</td>\n",
       "      <td>no</td>\n",
       "      <td>no</td>\n",
       "      <td>no</td>\n",
       "      <td>...</td>\n",
       "      <td>-0.57</td>\n",
       "      <td>3</td>\n",
       "      <td>0</td>\n",
       "      <td>7.63</td>\n",
       "      <td>6</td>\n",
       "      <td>1</td>\n",
       "      <td>0</td>\n",
       "      <td>-0.43</td>\n",
       "      <td>1</td>\n",
       "      <td>0</td>\n",
       "    </tr>\n",
       "    <tr>\n",
       "      <th>1</th>\n",
       "      <td>18.73</td>\n",
       "      <td>59.1</td>\n",
       "      <td>0</td>\n",
       "      <td>no</td>\n",
       "      <td>0</td>\n",
       "      <td>no</td>\n",
       "      <td>no</td>\n",
       "      <td>no</td>\n",
       "      <td>no</td>\n",
       "      <td>no</td>\n",
       "      <td>...</td>\n",
       "      <td>0.21</td>\n",
       "      <td>0</td>\n",
       "      <td>0</td>\n",
       "      <td>12.93</td>\n",
       "      <td>0</td>\n",
       "      <td>1</td>\n",
       "      <td>0</td>\n",
       "      <td>-0.41</td>\n",
       "      <td>1</td>\n",
       "      <td>0</td>\n",
       "    </tr>\n",
       "    <tr>\n",
       "      <th>2</th>\n",
       "      <td>21.85</td>\n",
       "      <td>59.0</td>\n",
       "      <td>0</td>\n",
       "      <td>no</td>\n",
       "      <td>0</td>\n",
       "      <td>no</td>\n",
       "      <td>no</td>\n",
       "      <td>no</td>\n",
       "      <td>no</td>\n",
       "      <td>no</td>\n",
       "      <td>...</td>\n",
       "      <td>0.00</td>\n",
       "      <td>2</td>\n",
       "      <td>0</td>\n",
       "      <td>7.68</td>\n",
       "      <td>5</td>\n",
       "      <td>3</td>\n",
       "      <td>0</td>\n",
       "      <td>0.08</td>\n",
       "      <td>1</td>\n",
       "      <td>0</td>\n",
       "    </tr>\n",
       "    <tr>\n",
       "      <th>3</th>\n",
       "      <td>18.49</td>\n",
       "      <td>59.0</td>\n",
       "      <td>1</td>\n",
       "      <td>no</td>\n",
       "      <td>1</td>\n",
       "      <td>no</td>\n",
       "      <td>no</td>\n",
       "      <td>yes</td>\n",
       "      <td>yes</td>\n",
       "      <td>no</td>\n",
       "      <td>...</td>\n",
       "      <td>-0.65</td>\n",
       "      <td>2</td>\n",
       "      <td>1</td>\n",
       "      <td>7.58</td>\n",
       "      <td>4</td>\n",
       "      <td>3</td>\n",
       "      <td>0</td>\n",
       "      <td>-0.32</td>\n",
       "      <td>1</td>\n",
       "      <td>0</td>\n",
       "    </tr>\n",
       "    <tr>\n",
       "      <th>4</th>\n",
       "      <td>19.70</td>\n",
       "      <td>59.0</td>\n",
       "      <td>1</td>\n",
       "      <td>no</td>\n",
       "      <td>0</td>\n",
       "      <td>no</td>\n",
       "      <td>no</td>\n",
       "      <td>no</td>\n",
       "      <td>no</td>\n",
       "      <td>no</td>\n",
       "      <td>...</td>\n",
       "      <td>0.00</td>\n",
       "      <td>0</td>\n",
       "      <td>0</td>\n",
       "      <td>7.88</td>\n",
       "      <td>11</td>\n",
       "      <td>0</td>\n",
       "      <td>0</td>\n",
       "      <td>0.00</td>\n",
       "      <td>1</td>\n",
       "      <td>0</td>\n",
       "    </tr>\n",
       "  </tbody>\n",
       "</table>\n",
       "<p>5 rows × 25 columns</p>\n",
       "</div>"
      ],
      "text/plain": [
       "     bmi   Age  asa_status baseline_cancer  baseline_charlson baseline_cvd  \\\n",
       "0  19.31  59.2           1             yes                  0           no   \n",
       "1  18.73  59.1           0              no                  0           no   \n",
       "2  21.85  59.0           0              no                  0           no   \n",
       "3  18.49  59.0           1              no                  1           no   \n",
       "4  19.70  59.0           1              no                  0           no   \n",
       "\n",
       "  baseline_dementia baseline_diabetes baseline_digestive baseline_osteoart  \\\n",
       "0                no                no                 no                no   \n",
       "1                no                no                 no                no   \n",
       "2                no                no                 no                no   \n",
       "3                no               yes                yes                no   \n",
       "4                no                no                 no                no   \n",
       "\n",
       "   ... complication_rsi dow  gender   hour  month  moonphase  mort30  \\\n",
       "0  ...            -0.57   3       0   7.63      6          1       0   \n",
       "1  ...             0.21   0       0  12.93      0          1       0   \n",
       "2  ...             0.00   2       0   7.68      5          3       0   \n",
       "3  ...            -0.65   2       1   7.58      4          3       0   \n",
       "4  ...             0.00   0       0   7.88     11          0       0   \n",
       "\n",
       "   mortality_rsi  race  complication  \n",
       "0          -0.43     1             0  \n",
       "1          -0.41     1             0  \n",
       "2           0.08     1             0  \n",
       "3          -0.32     1             0  \n",
       "4           0.00     1             0  \n",
       "\n",
       "[5 rows x 25 columns]"
      ]
     },
     "execution_count": 71,
     "metadata": {},
     "output_type": "execute_result"
    }
   ],
   "source": [
    "#Cargamos data para aplicar analisis de datos\n",
    "df = pd.read_csv(\"dataset_proyecto.csv\")\n",
    "df.head()"
   ]
  },
  {
   "cell_type": "markdown",
   "id": "114e3544-6359-4413-9250-88d34236d621",
   "metadata": {},
   "source": [
    "### Tipos de variables "
   ]
  },
  {
   "cell_type": "code",
   "execution_count": 72,
   "id": "c7e94ac4-152f-4678-ad38-ce4a841b34f7",
   "metadata": {},
   "outputs": [],
   "source": [
    "def getDataColTypes(df):\n",
    "    categoricas=[]\n",
    "    continuas=[]\n",
    "    discretas=[]\n",
    "    for colName in df.columns:\n",
    "        if(df[colName].dtype=='O'): \n",
    "            categoricas.append(colName)\n",
    "        else: \n",
    "            if((df[colName].dtype=='int64') or (df[colName].dtypes=='float64')): \n",
    "                if(len(df[colName])<=30):\n",
    "                    discretas.append(colName)\n",
    "                else: \n",
    "                    continuas.append(colName)\n",
    "    return discretas,continuas,categoricas"
   ]
  },
  {
   "cell_type": "markdown",
   "id": "653f622a-dd39-44ff-b922-3ab97719cfa4",
   "metadata": {},
   "source": [
    "#####  Imputación de variables. "
   ]
  },
  {
   "cell_type": "code",
   "execution_count": 73,
   "id": "f12e4e3d-89ae-4a5c-b1a9-402ef72f018a",
   "metadata": {},
   "outputs": [],
   "source": [
    "#Realizamos la imputación en función de lo observado. \n",
    "df['Age'] = df['Age'].fillna(df['Age'].mean())\n",
    "df['bmi'] = df['bmi'].fillna(df['bmi'].mode()[0])\n",
    "df['ccsMort30Rate'] = df['ccsMort30Rate'].fillna(df['ccsMort30Rate'].median())\n",
    "df['hour'] = df['hour'].fillna(df['hour'].median())\n"
   ]
  },
  {
   "cell_type": "markdown",
   "id": "c98b9af1-48e1-49a7-b153-f571c2d5b47d",
   "metadata": {},
   "source": [
    "##### Tratamiento de Outliers "
   ]
  },
  {
   "cell_type": "code",
   "execution_count": 74,
   "id": "6cfbf9b2-88a7-48c2-b9e6-7612e4b2fbe3",
   "metadata": {},
   "outputs": [],
   "source": [
    "## Creamos función para calcular el IQR, Limite inferior y limite superior. \n",
    "\n",
    "dataset = df\n",
    "col = 'bmi' \n",
    "def detectOutliersLimits(dataset,col):\n",
    "    '''\n",
    "    Descripción: Calcula los limites superiores e inferiores para detección de outliers. \n",
    "    Input: dataset->pandas dataframe, col->string nombre de columna\n",
    "    Output: tupla de floats con los limites superior e inferior (LI,LS)\n",
    "    '''\n",
    "    IQR = dataset[col].quantile(0.75)-dataset[col].quantile(0.25)\n",
    "    LI = dataset[col].quantile(0.25) - (IQR*1.75)\n",
    "    LS = dataset[col].quantile(0.75) + (IQR*1.75)\n",
    "    \n",
    "    return LI,LS"
   ]
  },
  {
   "cell_type": "code",
   "execution_count": 75,
   "id": "a345e068-abad-402e-bcbd-a12a57390ed8",
   "metadata": {},
   "outputs": [],
   "source": [
    "def cappingContinuas(dataset):\n",
    "    '''\n",
    "    Descripción: Aplica capping a las variables continuas  y convierte los valores negativos a cero\n",
    "    Input: dataset -> pandas dataframe\n",
    "    Output: pandas dataframe con las variables continuas cappeadas y valores negativos convertidos a cero\n",
    "    '''\n",
    "    continuas, _, _ = getDataColTypes(dataset)\n",
    "    for col in continuas:\n",
    "        LI, LS = detectOutliersLimits(dataset, col)\n",
    "        dataset[col] = np.where(dataset[col] > LS, LS,\n",
    "                                np.where(dataset[col] < LI, LI, dataset[col]))\n",
    "        dataset[col] = np.where(dataset[col] < 0, 0, dataset[col])  # Convertir valores negativos a cero. \n",
    "    return dataset"
   ]
  },
  {
   "cell_type": "code",
   "execution_count": 76,
   "id": "c9086868-8517-4786-a325-13edec8dbeb7",
   "metadata": {},
   "outputs": [],
   "source": [
    "df_capped = cappingContinuas(df)\n"
   ]
  },
  {
   "cell_type": "markdown",
   "id": "af72edd8-0c1c-467c-b194-9003fbb9aa13",
   "metadata": {},
   "source": [
    "##### Codificación de variables categoricas. "
   ]
  },
  {
   "cell_type": "code",
   "execution_count": 77,
   "id": "3edea845-f8db-4b47-9bab-9ab2222ab9eb",
   "metadata": {},
   "outputs": [],
   "source": [
    "#One Hot Encoding. \n",
    "ohe_cancer=pd.get_dummies(df['baseline_cancer'],drop_first=True)\n",
    "ohe_cancer.value_counts()\n",
    "df['baseline_cancer']=ohe_cancer\n",
    "ohe_cvd=pd.get_dummies(df['baseline_cvd'],drop_first=True)\n",
    "ohe_cvd.value_counts()\n",
    "df['baseline_cvd']=ohe_cvd\n",
    "ohe_dementia=pd.get_dummies(df['baseline_dementia'],drop_first=True)\n",
    "ohe_dementia.value_counts()\n",
    "df['baseline_dementia']=ohe_dementia\n",
    "ohe_diabetes=pd.get_dummies(df['baseline_diabetes'],drop_first=True)\n",
    "ohe_diabetes.value_counts()\n",
    "df['baseline_diabetes']=ohe_diabetes\n",
    "ohe_digestive=pd.get_dummies(df['baseline_digestive'],drop_first=True)\n",
    "ohe_digestive.value_counts()\n",
    "df['baseline_digestive']=ohe_digestive\n",
    "ohe_osteoart=pd.get_dummies(df['baseline_osteoart'],drop_first=True)\n",
    "ohe_osteoart.value_counts()\n",
    "df['baseline_osteoart']=ohe_osteoart\n",
    "ohe_psych=pd.get_dummies(df['baseline_psych'],drop_first=True)\n",
    "ohe_psych.value_counts()\n",
    "df['baseline_psych']=ohe_psych\n",
    "ohe_pulmonary=pd.get_dummies(df['baseline_pulmonary'],drop_first=True)\n",
    "ohe_pulmonary.value_counts()\n",
    "df['baseline_pulmonary']=ohe_pulmonary\n"
   ]
  },
  {
   "cell_type": "code",
   "execution_count": 78,
   "id": "e5adec2a-aa0e-48fb-870d-bb478be1e7b5",
   "metadata": {},
   "outputs": [],
   "source": [
    "from sklearn.model_selection import train_test_split\n",
    "\n",
    "# Define tus características y la variable objetivo\n",
    "X = df.drop(['complication'], axis=1)\n",
    "y = df['complication']\n",
    "\n",
    "# Divide los datos en conjuntos de entrenamiento y prueba\n",
    "X_train, X_test, y_train, y_test = train_test_split(X, y, test_size=0.3, random_state=2022)\n"
   ]
  },
  {
   "cell_type": "code",
   "execution_count": 79,
   "id": "21367f15-0a15-4d5f-a703-76b62eae472e",
   "metadata": {},
   "outputs": [],
   "source": [
    "# Convertir las variables categóricas a tipo object\n",
    "for var in VARS_CATEGORICAS:\n",
    "    X_train[var] = X_train[var].astype('object')\n",
    "    X_test[var] = X_test[var].astype('object')"
   ]
  },
  {
   "cell_type": "code",
   "execution_count": 80,
   "id": "3e168f5b-e914-44eb-ad5b-bd2c708bc255",
   "metadata": {},
   "outputs": [],
   "source": [
    "# Imputación de variables categóricas\n",
    "VARS_CATEGORICAS_CON_NA_FRECUENTE = ['baseline_cancer', 'baseline_cvd', 'baseline_dementia', \n",
    "                                     'baseline_diabetes', 'baseline_digestive', 'baseline_osteoart', \n",
    "                                     'baseline_psych', 'baseline_pulmonary']\n",
    "\n",
    "# Imputación de variables numéricas\n",
    "VARS_NUMERICAS_CON_NA = ['bmi', 'Age','ccsMort30Rate','hour']\n",
    "\n",
    "# Variables para transformación logarítmica\n",
    "VARS_NUMERICAS_LOG = ['bmi', 'Age']\n",
    "\n",
    "# Variables para codificación por frecuencia (no ordinal)\n",
    "VARS_CATEGORICAS = ['asa_status', 'ahrq_ccs', 'dow', 'gender', 'month', 'moonphase', 'mort30', 'race']\n",
    "\n",
    "# Variables a utilizar en el entrenamiento\n",
    "FEATURES = [\n",
    "    'bmi', 'Age', 'asa_status', 'baseline_cancer', 'baseline_charlson', \n",
    "    'baseline_cvd', 'baseline_dementia', 'baseline_diabetes', \n",
    "    'baseline_digestive', 'baseline_osteoart', 'baseline_psych', \n",
    "    'baseline_pulmonary', 'ahrq_ccs', 'ccsComplicationRate', 'ccsMort30Rate', \n",
    "    'complication_rsi', 'dow', 'gender', 'hour', 'month', 'moonphase', 'mort30', \n",
    "    'mortality_rsi', 'race'\n",
    "]"
   ]
  },
  {
   "cell_type": "code",
   "execution_count": 81,
   "id": "f6d05e25-82c1-4d0f-a064-798a4e818c26",
   "metadata": {},
   "outputs": [],
   "source": [
    "X_train = X_train[FEATURES]"
   ]
  },
  {
   "cell_type": "code",
   "execution_count": 82,
   "id": "7672356d-c23e-486f-91f1-118a1dc86c1a",
   "metadata": {},
   "outputs": [],
   "source": [
    "#Agregamos el Scaler (Z)\n",
    "scaler=StandardScaler()\n",
    "scaler.fit(X_train) \n",
    "\n",
    "X_train_std=scaler.transform(X_train)\n",
    "X_test_std=scaler.transform(X_test) "
   ]
  },
  {
   "cell_type": "markdown",
   "id": "50d0c2bd-39d2-490c-85ba-46ed0567707e",
   "metadata": {},
   "source": [
    "### Desarrollo de modelos de clasificación "
   ]
  },
  {
   "cell_type": "code",
   "execution_count": 83,
   "id": "b6487aa1-eb51-4951-ae0f-f1400ecf7576",
   "metadata": {},
   "outputs": [],
   "source": [
    "from sklearn.metrics import accuracy_score \n",
    "from sklearn.metrics import roc_auc_score\n",
    "\n",
    "from sklearn.model_selection import train_test_split \n",
    "\n",
    "from sklearn.preprocessing import StandardScaler"
   ]
  },
  {
   "cell_type": "markdown",
   "id": "398d118c-39c1-47c6-84d7-3a3c9f65fbe5",
   "metadata": {},
   "source": [
    "### Regresión Logistica"
   ]
  },
  {
   "cell_type": "code",
   "execution_count": 84,
   "id": "0c87c931-31b7-4815-9194-c764232a2c80",
   "metadata": {},
   "outputs": [
    {
     "name": "stdout",
     "output_type": "stream",
     "text": [
      "[0 0 0 ... 0 0 1]\n"
     ]
    }
   ],
   "source": [
    "from sklearn.linear_model import LogisticRegression\n",
    "from sklearn.preprocessing import StandardScaler\n",
    "\n",
    "# Crear una instancia del escalador\n",
    "scaler = StandardScaler()\n",
    "\n",
    "# Estandarizar las características de entrenamiento y prueba\n",
    "X_train_std = scaler.fit_transform(X_train)\n",
    "X_test_std = scaler.transform(X_test)\n",
    "\n",
    "# Crear una instancia del modelo de regresión logística\n",
    "logit = LogisticRegression()\n",
    "\n",
    "# Ajustar el modelo a los datos de entrenamiento\n",
    "logit.fit(X_train_std, y_train)\n",
    "\n",
    "# Realizar predicciones en los datos de prueba\n",
    "logit_preds = logit.predict(X_test_std)\n",
    "\n",
    "# Mostrar las predicciones\n",
    "print(logit_preds)\n",
    "\n"
   ]
  },
  {
   "cell_type": "code",
   "execution_count": 85,
   "id": "75d78d4a-b8ba-4f6c-b754-c5cb56cf6fd1",
   "metadata": {},
   "outputs": [],
   "source": [
    "acc = round(accuracy_score(y_test,logit_preds),4)\n",
    "roc_auc = round(roc_auc_score(y_test,logit_preds),4)"
   ]
  },
  {
   "cell_type": "code",
   "execution_count": 86,
   "id": "c62086f3-8225-4b42-bfb6-138d1f3cdf95",
   "metadata": {},
   "outputs": [
    {
     "name": "stdout",
     "output_type": "stream",
     "text": [
      "Accuracy:0.7957\n",
      "ROC-AUC:0.6569\n"
     ]
    }
   ],
   "source": [
    "print(f\"Accuracy:{acc}\")\n",
    "print(f\"ROC-AUC:{roc_auc}\")"
   ]
  },
  {
   "cell_type": "code",
   "execution_count": 87,
   "id": "4b3c4e2a-4533-4222-9408-d986f665de3e",
   "metadata": {},
   "outputs": [
    {
     "name": "stderr",
     "output_type": "stream",
     "text": [
      "C:\\Users\\Franz Castillo\\anaconda3\\lib\\site-packages\\sklearn\\model_selection\\_validation.py:372: FitFailedWarning: \n",
      "320 fits failed out of a total of 640.\n",
      "The score on these train-test partitions for these parameters will be set to nan.\n",
      "If these failures are not expected, you can try to debug them by setting error_score='raise'.\n",
      "\n",
      "Below are more details about the failures:\n",
      "--------------------------------------------------------------------------------\n",
      "160 fits failed with the following error:\n",
      "Traceback (most recent call last):\n",
      "  File \"C:\\Users\\Franz Castillo\\anaconda3\\lib\\site-packages\\sklearn\\model_selection\\_validation.py\", line 680, in _fit_and_score\n",
      "    estimator.fit(X_train, y_train, **fit_params)\n",
      "  File \"C:\\Users\\Franz Castillo\\anaconda3\\lib\\site-packages\\sklearn\\linear_model\\_logistic.py\", line 1471, in fit\n",
      "    raise ValueError(\n",
      "ValueError: l1_ratio must be between 0 and 1; got (l1_ratio=None)\n",
      "\n",
      "--------------------------------------------------------------------------------\n",
      "160 fits failed with the following error:\n",
      "Traceback (most recent call last):\n",
      "  File \"C:\\Users\\Franz Castillo\\anaconda3\\lib\\site-packages\\sklearn\\model_selection\\_validation.py\", line 680, in _fit_and_score\n",
      "    estimator.fit(X_train, y_train, **fit_params)\n",
      "  File \"C:\\Users\\Franz Castillo\\anaconda3\\lib\\site-packages\\sklearn\\linear_model\\_logistic.py\", line 1461, in fit\n",
      "    solver = _check_solver(self.solver, self.penalty, self.dual)\n",
      "  File \"C:\\Users\\Franz Castillo\\anaconda3\\lib\\site-packages\\sklearn\\linear_model\\_logistic.py\", line 441, in _check_solver\n",
      "    raise ValueError(\n",
      "ValueError: Logistic Regression supports only penalties in ['l1', 'l2', 'elasticnet', 'none'], got None.\n",
      "\n",
      "  warnings.warn(some_fits_failed_message, FitFailedWarning)\n",
      "C:\\Users\\Franz Castillo\\anaconda3\\lib\\site-packages\\sklearn\\model_selection\\_search.py:969: UserWarning: One or more of the test scores are non-finite: [0.80140208 0.80295119        nan        nan 0.80173301 0.80347678\n",
      "        nan        nan 0.80380444 0.80368264        nan        nan\n",
      " 0.80348345 0.80292278        nan        nan 0.80383762 0.80376428\n",
      "        nan        nan 0.80290777 0.80284868        nan        nan\n",
      " 0.80368388 0.80367972        nan        nan 0.80286949 0.80286474\n",
      "        nan        nan]\n",
      "  warnings.warn(\n",
      "C:\\Users\\Franz Castillo\\anaconda3\\lib\\site-packages\\sklearn\\model_selection\\_search.py:969: UserWarning: One or more of the test scores are non-finite: [0.79461139 0.7948048         nan        nan 0.70558525 0.71124798\n",
      "        nan        nan 0.7958775  0.7953896         nan        nan\n",
      " 0.7125177  0.7130056         nan        nan 0.79548706 0.7953896\n",
      "        nan        nan 0.71310307 0.71339585        nan        nan\n",
      " 0.7953896  0.7953896         nan        nan 0.71339585 0.71339566\n",
      "        nan        nan]\n",
      "  warnings.warn(\n"
     ]
    },
    {
     "name": "stdout",
     "output_type": "stream",
     "text": [
      "Mejores Hyperparametros:{'C': 1, 'fit_intercept': True, 'penalty': 'l1'}\n",
      "Mejor Metrica:0.8038376172008747\n",
      "Mean Accuracy:0.7536241319444443\n",
      "Mean ROC_AUC:0.803119535160745\n"
     ]
    }
   ],
   "source": [
    "from sklearn.model_selection import GridSearchCV, KFold \n",
    "\n",
    "logit = LogisticRegression(solver='saga')\n",
    "hyperparams_grid = {'penalty':['l1', 'l2', 'elasticnet', None],\n",
    "                    'C':[0.01,0.1,1,10],\n",
    "                    'fit_intercept':[True,False]\n",
    "}\n",
    "\n",
    "grid_search=GridSearchCV(estimator=logit,param_grid=hyperparams_grid,scoring=['roc_auc','accuracy'],refit='roc_auc',\n",
    "                        n_jobs=-1,cv=KFold(n_splits=20,shuffle=True,random_state=2023))\n",
    "\n",
    "grid_search.fit(X_train_std,y_train)\n",
    "\n",
    "accuracies = grid_search.cv_results_['mean_test_accuracy']\n",
    "roc_aucs = grid_search.cv_results_['mean_test_roc_auc']\n",
    "mean_acc = np.mean([x for x in accuracies if not np.isnan(x)])\n",
    "mean_roc_aucs = np.mean([x for x in roc_aucs if not np.isnan(x)])\n",
    "\n",
    "\n",
    "print(f'Mejores Hyperparametros:{grid_search.best_params_}')\n",
    "print(f'Mejor Metrica:{grid_search.best_score_}')\n",
    "print(f'Mean Accuracy:{mean_acc}')\n",
    "print(f'Mean ROC_AUC:{mean_roc_aucs}')"
   ]
  },
  {
   "cell_type": "markdown",
   "id": "f7e1081f-94fa-4732-9ffb-40dfc344cb39",
   "metadata": {},
   "source": [
    "#### Random Forest"
   ]
  },
  {
   "cell_type": "code",
   "execution_count": 88,
   "id": "54458e86-7bad-4a09-ace2-c01720dddf8a",
   "metadata": {},
   "outputs": [
    {
     "name": "stdout",
     "output_type": "stream",
     "text": [
      "Mejores Hyperparametros: {'bootstrap': False, 'criterion': 'entropy', 'max_depth': 25, 'n_estimators': 1000}\n",
      "Mejor Métrica: 0.9184592837242439\n",
      "Mean Accuracy: 0.8540962866806403\n",
      "Mean ROC_AUC: 0.9030749347219673\n"
     ]
    }
   ],
   "source": [
    "from sklearn.ensemble import RandomForestClassifier\n",
    "from sklearn.model_selection import GridSearchCV, KFold\n",
    "\n",
    "random_forest = RandomForestClassifier()\n",
    "\n",
    "hyperparams_grid = {\n",
    "    'n_estimators': [500, 1000],\n",
    "    'criterion': ['gini', 'entropy'],\n",
    "    'max_depth': [10, 25],\n",
    "    'bootstrap': [True, False]\n",
    "}\n",
    "\n",
    "grid_search = GridSearchCV(\n",
    "    estimator=random_forest,\n",
    "    param_grid=hyperparams_grid,\n",
    "    scoring=['roc_auc', 'accuracy'],\n",
    "    refit='roc_auc',\n",
    "    n_jobs=-1,\n",
    "    cv=KFold(n_splits=10, shuffle=True, random_state=2023)\n",
    ")\n",
    "\n",
    "grid_search.fit(X_train_std, y_train)\n",
    "\n",
    "accuracies = grid_search.cv_results_['mean_test_accuracy']\n",
    "roc_aucs = grid_search.cv_results_['mean_test_roc_auc']\n",
    "mean_acc = np.mean([x for x in accuracies if not np.isnan(x)])\n",
    "mean_roc_aucs = np.mean([x for x in roc_aucs if not np.isnan(x)])\n",
    "\n",
    "print(f'Mejores Hyperparametros: {grid_search.best_params_}')\n",
    "print(f'Mejor Métrica: {grid_search.best_score_}')\n",
    "print(f'Mean Accuracy: {mean_acc}')\n",
    "print(f'Mean ROC_AUC: {mean_roc_aucs}')\n"
   ]
  },
  {
   "cell_type": "markdown",
   "id": "b8750f70-b618-4a3e-b4f1-97c5b2101a68",
   "metadata": {},
   "source": [
    "#### Naive Bayes"
   ]
  },
  {
   "cell_type": "code",
   "execution_count": 101,
   "id": "663e2b07-0199-4789-b592-5436205de113",
   "metadata": {},
   "outputs": [
    {
     "name": "stdout",
     "output_type": "stream",
     "text": [
      "Mejores hiperparametros: {'var_smoothing': 1.0}\n",
      "Mejor métrica: 0.7818229738591997\n"
     ]
    }
   ],
   "source": [
    "from sklearn.model_selection import GridSearchCV\n",
    "\n",
    "param_grid = {'var_smoothing': np.logspace(0,-9, num=100)}\n",
    "grid_search = GridSearchCV(GaussianNB(), param_grid, cv=5, scoring='accuracy')\n",
    "\n",
    "grid_search.fit(X_train_std, y_train)\n",
    "print(f'Mejores hiperparametros: {grid_search.best_params_}')\n",
    "print(f'Mejor métrica: {grid_search.best_score_}')"
   ]
  },
  {
   "cell_type": "code",
   "execution_count": 95,
   "id": "928094c4-66e8-4e0a-8ee3-53a40bf5dc9a",
   "metadata": {},
   "outputs": [
    {
     "name": "stdout",
     "output_type": "stream",
     "text": [
      "Accuracy: 0.7761329993167844\n",
      "ROC-AUC: 0.6731866005595765\n"
     ]
    }
   ],
   "source": [
    "# Calcular la precisión y el AUC-ROC\n",
    "naive_bayes_acc = accuracy_score(y_test, naive_bayes_preds)\n",
    "naive_bayes_roc_auc = roc_auc_score(y_test, naive_bayes_preds)\n",
    "# Imprimir la precisión y el AUC-ROC\n",
    "print(f'Accuracy: {naive_bayes_acc}')\n",
    "print(f'ROC-AUC: {naive_bayes_roc_auc}')"
   ]
  },
  {
   "cell_type": "markdown",
   "id": "62bd38c3-5fb6-4027-8f8c-e2c75f4cf5c9",
   "metadata": {},
   "source": [
    "#### LDA (Linear Discriminant Analysis)"
   ]
  },
  {
   "cell_type": "code",
   "execution_count": 105,
   "id": "39b0b590-cbb3-461c-a469-6c5d7fb0cb97",
   "metadata": {},
   "outputs": [
    {
     "name": "stdout",
     "output_type": "stream",
     "text": [
      "Mejores hiperparametros: {'shrinkage': 'auto', 'solver': 'lsqr'}\n",
      "Mejor Metrica: 0.7954897491916788\n",
      "Accuracy: 0.7927579139148258\n",
      "ROC-AUC: 0.662114884136198\n"
     ]
    },
    {
     "name": "stderr",
     "output_type": "stream",
     "text": [
      "C:\\Users\\Franz Castillo\\anaconda3\\lib\\site-packages\\sklearn\\model_selection\\_validation.py:372: FitFailedWarning: \n",
      "5 fits failed out of a total of 30.\n",
      "The score on these train-test partitions for these parameters will be set to nan.\n",
      "If these failures are not expected, you can try to debug them by setting error_score='raise'.\n",
      "\n",
      "Below are more details about the failures:\n",
      "--------------------------------------------------------------------------------\n",
      "5 fits failed with the following error:\n",
      "Traceback (most recent call last):\n",
      "  File \"C:\\Users\\Franz Castillo\\anaconda3\\lib\\site-packages\\sklearn\\model_selection\\_validation.py\", line 680, in _fit_and_score\n",
      "    estimator.fit(X_train, y_train, **fit_params)\n",
      "  File \"C:\\Users\\Franz Castillo\\anaconda3\\lib\\site-packages\\sklearn\\discriminant_analysis.py\", line 583, in fit\n",
      "    raise NotImplementedError(\"shrinkage not supported\")\n",
      "NotImplementedError: shrinkage not supported\n",
      "\n",
      "  warnings.warn(some_fits_failed_message, FitFailedWarning)\n",
      "C:\\Users\\Franz Castillo\\anaconda3\\lib\\site-packages\\sklearn\\model_selection\\_search.py:969: UserWarning: One or more of the test scores are non-finite: [0.79500161 0.79500161 0.79500161        nan 0.79548975 0.79548975]\n",
      "  warnings.warn(\n"
     ]
    }
   ],
   "source": [
    "param_grid_lda = {'solver': ['svd', 'lsqr', 'eigen'], 'shrinkage': [None, 'auto']}\n",
    "\n",
    "grid_search_lda = GridSearchCV(LinearDiscriminantAnalysis(), param_grid_lda, cv=5, scoring='accuracy')\n",
    "\n",
    "grid_search_lda.fit(X_train_std, y_train)\n",
    "print(f'Mejores hiperparametros: {grid_search_lda.best_params_}')\n",
    "print(f'Mejor Metrica: {grid_search_lda.best_score_}')\n",
    "# Calcular la precisión y el AUC-ROC\n",
    "lda_acc = accuracy_score(y_test, lda_preds)\n",
    "lda_roc_auc = roc_auc_score(y_test, lda_preds)\n",
    "\n",
    "# Imprimir la precisión y el AUC-ROC\n",
    "print(f'Accuracy: {lda_acc}')\n",
    "print(f'ROC-AUC: {lda_roc_auc}')"
   ]
  },
  {
   "cell_type": "markdown",
   "id": "762b7dbe-da2b-4483-8716-a2e1d61861cc",
   "metadata": {},
   "source": [
    "#### SVM "
   ]
  },
  {
   "cell_type": "code",
   "execution_count": null,
   "id": "d852e557-5a46-4366-bca7-fa4cb53a84f1",
   "metadata": {},
   "outputs": [],
   "source": [
    "from sklearn.svm import SVC\n",
    "svm = SVC()\n",
    "svm.fit(X_train_std, y_train)\n",
    "svm_preds = svm.predict(X_test_std)\n",
    "param_grid_svm = {'C': [0.1, 1, 10, 100], 'gamma': [1, 0.1, 0.01, 0.001], 'kernel': ['rbf', 'poly', 'sigmoid']}\n",
    "grid_search_svm = GridSearchCV(SVC(), param_grid_svm, cv=5, scoring='accuracy')\n",
    "grid_search_svm.fit(X_train_std, y_train)\n",
    "print(f'Mejor hiperparametros: {grid_search_svm.best_params_}')\n",
    "print(f'Mejor metrica: {grid_search_svm.best_score_}')\n",
    "# Calcular la precisión y el AUC-ROC\n",
    "svm_acc = accuracy_score(y_test, svm_preds)\n",
    "svm_roc_auc = roc_auc_score(y_test, svm_preds)\n",
    "# Imprimir la precisión y el AUC-ROC\n",
    "print(f'Accuracy: {svm_acc}')\n",
    "print(f'ROC-AUC: {svm_roc_auc}')"
   ]
  },
  {
   "cell_type": "markdown",
   "id": "f346e90a-1de2-4681-a3ab-a2a62cc62afd",
   "metadata": {},
   "source": [
    "#### Arbol de decisión"
   ]
  },
  {
   "cell_type": "code",
   "execution_count": null,
   "id": "db642287-5255-43c2-8c73-568a93fe771f",
   "metadata": {},
   "outputs": [],
   "source": [
    "from sklearn.tree import DecisionTreeClassifier\n",
    "dt = DecisionTreeClassifier()\n",
    "dt.fit(X_train_std, y_train)\n",
    "dt_preds = dt.predict(X_test_std)\n",
    "param_grid_dt = {'criterion': ['gini', 'entropy'], 'max_depth': [None, 2, 4, 6, 8, 10], 'min_samples_split': [2, 5, 10], 'min_samples_leaf': [1, 2, 4]}\n",
    "grid_search_dt = GridSearchCV(DecisionTreeClassifier(), param_grid_dt, cv=5, scoring='accuracy')\n",
    "grid_search_dt.fit(X_train_std, y_train)\n",
    "# Obtener los mejores hiperparámetros\n",
    "print(f'Best parameters: {grid_search_dt.best_params_}')\n",
    "print(f'Best score: {grid_search_dt.best_score_}')\n",
    "dt_acc = accuracy_score(y_test, dt_preds)\n",
    "dt_roc_auc = roc_auc_score(y_test, dt_preds)\n",
    "# Imprimir la precisión y el AUC-ROC\n",
    "print(f'Accuracy: {dt_acc}')\n",
    "print(f'ROC-AUC: {dt_roc_auc}')\n"
   ]
  },
  {
   "cell_type": "markdown",
   "id": "18d7f9c8-e85f-4b46-aef1-3028dc9df708",
   "metadata": {},
   "source": [
    "#### Quadratic Discriminant Analysis (QDA)"
   ]
  },
  {
   "cell_type": "code",
   "execution_count": null,
   "id": "bd23ec47-272b-481b-8d48-1853567d6908",
   "metadata": {},
   "outputs": [],
   "source": [
    "from sklearn.discriminant_analysis import QuadraticDiscriminantAnalysis\n",
    "qda = QuadraticDiscriminantAnalysis()\n",
    "qda.fit(X_train_std, y_train)\n",
    "qda_preds = qda.predict(X_test_std)\n",
    "print(qda_preds)"
   ]
  },
  {
   "cell_type": "code",
   "execution_count": null,
   "id": "0c8c21c0-4d34-4cb7-af24-b80b28728056",
   "metadata": {},
   "outputs": [],
   "source": [
    "param_grid_qda = {'reg_param': [0.0, 0.5, 1.0]}\n",
    "grid_search_qda = GridSearchCV(QuadraticDiscriminantAnalysis(), param_grid_qda, cv=5, scoring='accuracy')\n",
    "grid_search_qda.fit(X_train_std, y_train)\n",
    "# Obtener los mejores hiperparámetros\n",
    "print(f'Mejores hiperparámetros: {grid_search_qda.best_params_}')\n",
    "print(f'Mejor métrica: {grid_search_qda.best_score_}')\n",
    "# Calcular la precisión y el AUC-ROC\n",
    "qda_acc = accuracy_score(y_test, qda_preds)\n",
    "qda_roc_auc = roc_auc_score(y_test, qda_preds)\n",
    "# Imprimir la precisión y el AUC-ROC\n",
    "print(f'Accuracy: {qda_acc}')\n",
    "print(f'ROC-AUC: {qda_roc_auc}')"
   ]
  },
  {
   "cell_type": "markdown",
   "id": "5f911ecf-4867-40d8-99bb-2aa109ad21b0",
   "metadata": {},
   "source": [
    "### AdaBoost"
   ]
  },
  {
   "cell_type": "code",
   "execution_count": null,
   "id": "917c5b1e-9436-42c4-928b-c58b3b7c0d00",
   "metadata": {},
   "outputs": [],
   "source": [
    "from sklearn.ensemble import AdaBoostClassifier\n",
    "ada = AdaBoostClassifier()\n",
    "ada.fit(X_train_std, y_train)\n",
    "ada_preds = ada.predict(X_test_std)\n",
    "# Calcular la precisión y el AUC-ROC\n",
    "ada_acc = accuracy_score(y_test, ada_preds)\n",
    "ada_roc_auc = roc_auc_score(y_test, ada_preds)\n",
    "param_grid_ada = {'n_estimators': [50, 100, 150, 200], 'learning_rate': [0.001, 0.01, 0.1, 1.0]}\n",
    "grid_search_ada = GridSearchCV(AdaBoostClassifier(), param_grid_ada, cv=5, scoring='accuracy')\n",
    "grid_search_ada.fit(X_train_std, y_train)\n",
    "# Obtener los mejores hiperparámetros\n",
    "print(f'Mejores hiperparámetros: {grid_search_ada.best_params_}')\n",
    "print(f'Mejor métrica: {grid_search_ada.best_score_}')\n",
    "\n",
    "# Imprimir la precisión y el AUC-ROC\n",
    "print(f'Accuracy: {ada_acc}')\n",
    "print(f'ROC-AUC: {ada_roc_auc}')"
   ]
  },
  {
   "cell_type": "markdown",
   "id": "5f97e3a9-f52a-44b0-a776-6a3e32f03dca",
   "metadata": {},
   "source": [
    "### XGBoost"
   ]
  },
  {
   "cell_type": "code",
   "execution_count": null,
   "id": "aba8fd46-58b5-4434-9458-f43eaf4074f1",
   "metadata": {},
   "outputs": [],
   "source": [
    "from xgboost import XGBClassifier\n",
    "xgb = XGBClassifier()\n",
    "xgb.fit(X_train_std, y_train)\n",
    "xgb_preds = xgb.predict(X_test_std)\n",
    "# Definir los hiperparámetros a ajustar\n",
    "param_grid_xgb = {\n",
    "    'n_estimators': [100, 200, 300],\n",
    "    'learning_rate': [0.01, 0.1, 0.2],\n",
    "    'max_depth': [3, 4, 5],\n",
    "    'subsample': [0.5, 0.7, 1.0],\n",
    "    'colsample_bytree': [0.5, 0.7, 1.0]\n",
    "}\n",
    "\n",
    "# Crear una instancia de GridSearchCV\n",
    "grid_search_xgb = GridSearchCV(XGBClassifier(), param_grid_xgb, cv=5, scoring='accuracy')\n",
    "\n",
    "# Ajustar GridSearchCV a los datos de entrenamiento\n",
    "grid_search_xgb.fit(X_train_std, y_train)\n",
    "\n",
    "# Obtener los mejores hiperparámetros\n",
    "print(f'Mejores hiperparámetros: {grid_search_xgb.best_params_}')\n",
    "print(f'Mejor métrica: {grid_search_xgb.best_score_}')\n",
    "# Calcular la precisión y el AUC-ROC\n",
    "xgb_acc = accuracy_score(y_test, xgb_preds)\n",
    "xgb_roc_auc = roc_auc_score(y_test, xgb_preds)\n",
    "\n",
    "# Imprimir la precisión y el AUC-ROC\n",
    "print(f'Accuracy: {xgb_acc}')\n",
    "print(f'ROC-AUC: {xgb_roc_auc}')\n"
   ]
  },
  {
   "cell_type": "markdown",
   "id": "d89577b2-7bc9-44c3-a862-84ec36182842",
   "metadata": {},
   "source": [
    "### LGBM"
   ]
  },
  {
   "cell_type": "code",
   "execution_count": null,
   "id": "d0826003-9267-4795-8e6b-307684eadce7",
   "metadata": {},
   "outputs": [],
   "source": [
    "from lightgbm import LGBMClassifier\n",
    "lgbm = LGBMClassifier()\n",
    "lgbm.fit(X_train_std, y_train)\n",
    "lgbm_preds = lgbm.predict(X_test_std)\n",
    "param_grid_lgbm = {\n",
    "    'n_estimators': [100, 200, 300],\n",
    "    'learning_rate': [0.01, 0.1, 0.2],\n",
    "    'max_depth': [3, 4, 5],\n",
    "    'subsample': [0.5, 0.7, 1.0],\n",
    "    'colsample_bytree': [0.5, 0.7, 1.0]\n",
    "}\n",
    "grid_search_lgbm = GridSearchCV(LGBMClassifier(), param_grid_lgbm, cv=5, scoring='accuracy')\n",
    "grid_search_lgbm.fit(X_train_std, y_train)\n",
    "# Obtener los mejores hiperparámetros\n",
    "print(f'Mejores hiperparámetros: {grid_search_lgbm.best_params_}')\n",
    "print(f'Mejor métrica: {grid_search_lgbm.best_score_}')\n",
    "\n",
    "# Calcular la precisión y el AUC-ROC\n",
    "lgbm_acc = accuracy_score(y_test, lgbm_preds)\n",
    "lgbm_roc_auc = roc_auc_score(y_test, lgbm_preds)\n",
    "\n",
    "# Imprimir la precisión y el AUC-ROC\n",
    "print(f'Accuracy: {lgbm_acc}')\n",
    "print(f'ROC-AUC: {lgbm_roc_auc}')"
   ]
  },
  {
   "cell_type": "markdown",
   "id": "830697b4-106c-41a8-a818-ab6d95d41a8c",
   "metadata": {},
   "source": [
    "#### Comparación de todos los modelos"
   ]
  }
 ],
 "metadata": {
  "kernelspec": {
   "display_name": "Python 3 (ipykernel)",
   "language": "python",
   "name": "python3"
  },
  "language_info": {
   "codemirror_mode": {
    "name": "ipython",
    "version": 3
   },
   "file_extension": ".py",
   "mimetype": "text/x-python",
   "name": "python",
   "nbconvert_exporter": "python",
   "pygments_lexer": "ipython3",
   "version": "3.9.13"
  }
 },
 "nbformat": 4,
 "nbformat_minor": 5
}
