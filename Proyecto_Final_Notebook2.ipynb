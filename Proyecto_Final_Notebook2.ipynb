{
 "cells": [
  {
   "cell_type": "markdown",
   "id": "25e14e8b-1efe-4dd3-8ecd-785076a83dda",
   "metadata": {},
   "source": [
    "### Proyecto Final Notebook 2\n",
    "#### Doris Andrea Paz Garcia  \t22005266\n",
    "#### Franz Schubert Castillo Colocho 22003738\n",
    "#### Estuardo Funes 20032042"
   ]
  },
  {
   "cell_type": "code",
   "execution_count": 45,
   "id": "e4df2770-136f-4921-a552-b9d24e74136d",
   "metadata": {},
   "outputs": [],
   "source": [
    "#Importamos las librerías \n",
    "import numpy as np\n",
    "import pandas as pd\n",
    "import matplotlib.pyplot as plt \n",
    "import seaborn as sns \n",
    "from scipy import stats\n",
    "\n",
    "from sklearn.linear_model import Lasso\n",
    "from sklearn.metrics import mean_squared_error, r2_score\n",
    "from sklearn.model_selection import train_test_split\n",
    "from sklearn.pipeline import Pipeline\n",
    "from sklearn.preprocessing import MinMaxScaler, Binarizer\n",
    "\n",
    "from feature_engine.imputation import AddMissingIndicator, MeanMedianImputer, CategoricalImputer\n",
    "from feature_engine.encoding import RareLabelEncoder, OrdinalEncoder\n",
    "from feature_engine.transformation import LogTransformer\n",
    "from feature_engine.selection import DropFeatures\n",
    "from feature_engine.wrappers import SklearnTransformerWrapper\n",
    "\n"
   ]
  },
  {
   "cell_type": "code",
   "execution_count": 46,
   "id": "7a2651ae-4688-4827-b5c4-097cc038d3f0",
   "metadata": {},
   "outputs": [
    {
     "data": {
      "text/html": [
       "<div>\n",
       "<style scoped>\n",
       "    .dataframe tbody tr th:only-of-type {\n",
       "        vertical-align: middle;\n",
       "    }\n",
       "\n",
       "    .dataframe tbody tr th {\n",
       "        vertical-align: top;\n",
       "    }\n",
       "\n",
       "    .dataframe thead th {\n",
       "        text-align: right;\n",
       "    }\n",
       "</style>\n",
       "<table border=\"1\" class=\"dataframe\">\n",
       "  <thead>\n",
       "    <tr style=\"text-align: right;\">\n",
       "      <th></th>\n",
       "      <th>bmi</th>\n",
       "      <th>Age</th>\n",
       "      <th>asa_status</th>\n",
       "      <th>baseline_cancer</th>\n",
       "      <th>baseline_charlson</th>\n",
       "      <th>baseline_cvd</th>\n",
       "      <th>baseline_dementia</th>\n",
       "      <th>baseline_diabetes</th>\n",
       "      <th>baseline_digestive</th>\n",
       "      <th>baseline_osteoart</th>\n",
       "      <th>...</th>\n",
       "      <th>complication_rsi</th>\n",
       "      <th>dow</th>\n",
       "      <th>gender</th>\n",
       "      <th>hour</th>\n",
       "      <th>month</th>\n",
       "      <th>moonphase</th>\n",
       "      <th>mort30</th>\n",
       "      <th>mortality_rsi</th>\n",
       "      <th>race</th>\n",
       "      <th>complication</th>\n",
       "    </tr>\n",
       "  </thead>\n",
       "  <tbody>\n",
       "    <tr>\n",
       "      <th>0</th>\n",
       "      <td>19.31</td>\n",
       "      <td>59.2</td>\n",
       "      <td>1</td>\n",
       "      <td>yes</td>\n",
       "      <td>0</td>\n",
       "      <td>no</td>\n",
       "      <td>no</td>\n",
       "      <td>no</td>\n",
       "      <td>no</td>\n",
       "      <td>no</td>\n",
       "      <td>...</td>\n",
       "      <td>-0.57</td>\n",
       "      <td>3</td>\n",
       "      <td>0</td>\n",
       "      <td>7.63</td>\n",
       "      <td>6</td>\n",
       "      <td>1</td>\n",
       "      <td>0</td>\n",
       "      <td>-0.43</td>\n",
       "      <td>1</td>\n",
       "      <td>0</td>\n",
       "    </tr>\n",
       "    <tr>\n",
       "      <th>1</th>\n",
       "      <td>18.73</td>\n",
       "      <td>59.1</td>\n",
       "      <td>0</td>\n",
       "      <td>no</td>\n",
       "      <td>0</td>\n",
       "      <td>no</td>\n",
       "      <td>no</td>\n",
       "      <td>no</td>\n",
       "      <td>no</td>\n",
       "      <td>no</td>\n",
       "      <td>...</td>\n",
       "      <td>0.21</td>\n",
       "      <td>0</td>\n",
       "      <td>0</td>\n",
       "      <td>12.93</td>\n",
       "      <td>0</td>\n",
       "      <td>1</td>\n",
       "      <td>0</td>\n",
       "      <td>-0.41</td>\n",
       "      <td>1</td>\n",
       "      <td>0</td>\n",
       "    </tr>\n",
       "    <tr>\n",
       "      <th>2</th>\n",
       "      <td>21.85</td>\n",
       "      <td>59.0</td>\n",
       "      <td>0</td>\n",
       "      <td>no</td>\n",
       "      <td>0</td>\n",
       "      <td>no</td>\n",
       "      <td>no</td>\n",
       "      <td>no</td>\n",
       "      <td>no</td>\n",
       "      <td>no</td>\n",
       "      <td>...</td>\n",
       "      <td>0.00</td>\n",
       "      <td>2</td>\n",
       "      <td>0</td>\n",
       "      <td>7.68</td>\n",
       "      <td>5</td>\n",
       "      <td>3</td>\n",
       "      <td>0</td>\n",
       "      <td>0.08</td>\n",
       "      <td>1</td>\n",
       "      <td>0</td>\n",
       "    </tr>\n",
       "    <tr>\n",
       "      <th>3</th>\n",
       "      <td>18.49</td>\n",
       "      <td>59.0</td>\n",
       "      <td>1</td>\n",
       "      <td>no</td>\n",
       "      <td>1</td>\n",
       "      <td>no</td>\n",
       "      <td>no</td>\n",
       "      <td>yes</td>\n",
       "      <td>yes</td>\n",
       "      <td>no</td>\n",
       "      <td>...</td>\n",
       "      <td>-0.65</td>\n",
       "      <td>2</td>\n",
       "      <td>1</td>\n",
       "      <td>7.58</td>\n",
       "      <td>4</td>\n",
       "      <td>3</td>\n",
       "      <td>0</td>\n",
       "      <td>-0.32</td>\n",
       "      <td>1</td>\n",
       "      <td>0</td>\n",
       "    </tr>\n",
       "    <tr>\n",
       "      <th>4</th>\n",
       "      <td>19.70</td>\n",
       "      <td>59.0</td>\n",
       "      <td>1</td>\n",
       "      <td>no</td>\n",
       "      <td>0</td>\n",
       "      <td>no</td>\n",
       "      <td>no</td>\n",
       "      <td>no</td>\n",
       "      <td>no</td>\n",
       "      <td>no</td>\n",
       "      <td>...</td>\n",
       "      <td>0.00</td>\n",
       "      <td>0</td>\n",
       "      <td>0</td>\n",
       "      <td>7.88</td>\n",
       "      <td>11</td>\n",
       "      <td>0</td>\n",
       "      <td>0</td>\n",
       "      <td>0.00</td>\n",
       "      <td>1</td>\n",
       "      <td>0</td>\n",
       "    </tr>\n",
       "  </tbody>\n",
       "</table>\n",
       "<p>5 rows × 25 columns</p>\n",
       "</div>"
      ],
      "text/plain": [
       "     bmi   Age  asa_status baseline_cancer  baseline_charlson baseline_cvd  \\\n",
       "0  19.31  59.2           1             yes                  0           no   \n",
       "1  18.73  59.1           0              no                  0           no   \n",
       "2  21.85  59.0           0              no                  0           no   \n",
       "3  18.49  59.0           1              no                  1           no   \n",
       "4  19.70  59.0           1              no                  0           no   \n",
       "\n",
       "  baseline_dementia baseline_diabetes baseline_digestive baseline_osteoart  \\\n",
       "0                no                no                 no                no   \n",
       "1                no                no                 no                no   \n",
       "2                no                no                 no                no   \n",
       "3                no               yes                yes                no   \n",
       "4                no                no                 no                no   \n",
       "\n",
       "   ... complication_rsi dow  gender   hour  month  moonphase  mort30  \\\n",
       "0  ...            -0.57   3       0   7.63      6          1       0   \n",
       "1  ...             0.21   0       0  12.93      0          1       0   \n",
       "2  ...             0.00   2       0   7.68      5          3       0   \n",
       "3  ...            -0.65   2       1   7.58      4          3       0   \n",
       "4  ...             0.00   0       0   7.88     11          0       0   \n",
       "\n",
       "   mortality_rsi  race  complication  \n",
       "0          -0.43     1             0  \n",
       "1          -0.41     1             0  \n",
       "2           0.08     1             0  \n",
       "3          -0.32     1             0  \n",
       "4           0.00     1             0  \n",
       "\n",
       "[5 rows x 25 columns]"
      ]
     },
     "execution_count": 46,
     "metadata": {},
     "output_type": "execute_result"
    }
   ],
   "source": [
    "#Cargamos data para aplicar analisis de datos\n",
    "df = pd.read_csv(\"dataset_proyecto.csv\")\n",
    "df.head()"
   ]
  },
  {
   "cell_type": "markdown",
   "id": "60d142e5-d69e-4ae3-ae27-887c1c15c8c2",
   "metadata": {},
   "source": [
    "## 3. Ingeniería de Caracteristicas. "
   ]
  },
  {
   "cell_type": "code",
   "execution_count": 47,
   "id": "6bae14e8-d850-4e36-97bc-da6b3519b4bd",
   "metadata": {},
   "outputs": [],
   "source": [
    "def getDataColTypes(df):\n",
    "    categoricas=[]\n",
    "    continuas=[]\n",
    "    discretas=[]\n",
    "    for colName in df.columns:\n",
    "        if(df[colName].dtype=='O'): \n",
    "            categoricas.append(colName)\n",
    "        else: \n",
    "            if((df[colName].dtype=='int64') or (df[colName].dtypes=='float64')): \n",
    "                if(len(df[colName])<=30):\n",
    "                    discretas.append(colName)\n",
    "                else: \n",
    "                    continuas.append(colName)\n",
    "    return discretas,continuas,categoricas"
   ]
  },
  {
   "cell_type": "code",
   "execution_count": 48,
   "id": "76f63b5c-bc2b-456c-bef3-e70f6814b389",
   "metadata": {},
   "outputs": [
    {
     "name": "stdout",
     "output_type": "stream",
     "text": [
      "['bmi', 'Age', 'asa_status', 'baseline_charlson', 'ahrq_ccs', 'ccsComplicationRate', 'ccsMort30Rate', 'complication_rsi', 'dow', 'gender', 'hour', 'month', 'moonphase', 'mort30', 'mortality_rsi', 'race', 'complication']\n",
      "[]\n",
      "['baseline_cancer', 'baseline_cvd', 'baseline_dementia', 'baseline_diabetes', 'baseline_digestive', 'baseline_osteoart', 'baseline_psych', 'baseline_pulmonary']\n"
     ]
    }
   ],
   "source": [
    "discretas,continuas,categoricas = getDataColTypes(df)\n",
    "print(continuas)\n",
    "print(discretas)\n",
    "print(categoricas) "
   ]
  },
  {
   "cell_type": "markdown",
   "id": "25091f52-fae1-4565-a49c-eee42afb6bb4",
   "metadata": {},
   "source": [
    "##### 3.1 Imputación de variables. "
   ]
  },
  {
   "cell_type": "code",
   "execution_count": 49,
   "id": "ee32505b-ced1-484d-bd20-b87c332f8ca4",
   "metadata": {},
   "outputs": [],
   "source": [
    "#Realizamos la imputación en función de lo observado. \n",
    "df['Age'] = df['Age'].fillna(df['Age'].mean())\n",
    "df['bmi'] = df['bmi'].fillna(df['bmi'].mode()[0])\n",
    "df['ccsMort30Rate'] = df['ccsMort30Rate'].fillna(df['ccsMort30Rate'].median())\n",
    "df['hour'] = df['hour'].fillna(df['hour'].median())\n",
    "\n"
   ]
  },
  {
   "cell_type": "markdown",
   "id": "8b23f98a-4e9f-45f6-b9b9-1b3199f7a253",
   "metadata": {},
   "source": [
    "##### 3.2 Tratamiento de Outliers "
   ]
  },
  {
   "cell_type": "code",
   "execution_count": 50,
   "id": "cc0a6d2c-e0f2-40c8-b22b-d3982c7106ea",
   "metadata": {},
   "outputs": [],
   "source": [
    "## Creamos función para calcular el IQR, Limite inferior y limite superior. \n",
    "\n",
    "dataset = df\n",
    "col = 'bmi' \n",
    "def detectOutliersLimits(dataset,col):\n",
    "    '''\n",
    "    Descripción: Calcula los limites superiores e inferiores para detección de outliers. \n",
    "    Input: dataset->pandas dataframe, col->string nombre de columna\n",
    "    Output: tupla de floats con los limites superior e inferior (LI,LS)\n",
    "    '''\n",
    "    IQR = dataset[col].quantile(0.75)-dataset[col].quantile(0.25)\n",
    "    LI = dataset[col].quantile(0.25) - (IQR*1.75)\n",
    "    LS = dataset[col].quantile(0.75) + (IQR*1.75)\n",
    "    \n",
    "    return LI,LS"
   ]
  },
  {
   "cell_type": "code",
   "execution_count": 51,
   "id": "c16fafa1-ba3e-444b-83f4-9e5e11c76816",
   "metadata": {},
   "outputs": [],
   "source": [
    "def cappingContinuas(dataset):\n",
    "    '''\n",
    "    Descripción: Aplica capping a las variables continuas  y convierte los valores negativos a cero\n",
    "    Input: dataset -> pandas dataframe\n",
    "    Output: pandas dataframe con las variables continuas cappeadas y valores negativos convertidos a cero\n",
    "    '''\n",
    "    continuas, _, _ = getDataColTypes(dataset)\n",
    "    for col in continuas:\n",
    "        LI, LS = detectOutliersLimits(dataset, col)\n",
    "        dataset[col] = np.where(dataset[col] > LS, LS,\n",
    "                                np.where(dataset[col] < LI, LI, dataset[col]))\n",
    "        dataset[col] = np.where(dataset[col] < 0, 0, dataset[col])  # Convertir valores negativos a cero. \n",
    "    return dataset"
   ]
  },
  {
   "cell_type": "code",
   "execution_count": 52,
   "id": "caa3038f-c23d-4c13-aaaf-040cbe61cdc7",
   "metadata": {},
   "outputs": [],
   "source": [
    "df_capped = cappingContinuas(df)\n"
   ]
  },
  {
   "cell_type": "markdown",
   "id": "4ea880de-4415-409f-aea6-b9676572212a",
   "metadata": {},
   "source": [
    "##### 3.2 Codificación de variables categoricas. "
   ]
  },
  {
   "cell_type": "code",
   "execution_count": 53,
   "id": "d7264379-ce47-4ccd-9269-09af44348d62",
   "metadata": {},
   "outputs": [],
   "source": [
    "#One Hot Encoding. \n",
    "ohe_cancer=pd.get_dummies(df['baseline_cancer'],drop_first=True)\n",
    "ohe_cancer.value_counts()\n",
    "df['baseline_cancer']=ohe_cancer"
   ]
  },
  {
   "cell_type": "code",
   "execution_count": 54,
   "id": "04084b94-6907-49ad-a675-4c8dea0d3124",
   "metadata": {},
   "outputs": [],
   "source": [
    "#One Hot Encoding. \n",
    "ohe_cvd=pd.get_dummies(df['baseline_cvd'],drop_first=True)\n",
    "ohe_cvd.value_counts()\n",
    "df['baseline_cvd']=ohe_cvd"
   ]
  },
  {
   "cell_type": "code",
   "execution_count": 55,
   "id": "11740c9a-f2f2-4457-9a40-5709c247bbb8",
   "metadata": {},
   "outputs": [],
   "source": [
    "#One Hot Encoding. \n",
    "ohe_dementia=pd.get_dummies(df['baseline_dementia'],drop_first=True)\n",
    "ohe_dementia.value_counts()\n",
    "df['baseline_dementia']=ohe_dementia"
   ]
  },
  {
   "cell_type": "code",
   "execution_count": 56,
   "id": "62e34597-e7fd-4266-8c11-33fc40026654",
   "metadata": {},
   "outputs": [],
   "source": [
    "#One Hot Encoding. \n",
    "ohe_diabetes=pd.get_dummies(df['baseline_diabetes'],drop_first=True)\n",
    "ohe_diabetes.value_counts()\n",
    "df['baseline_diabetes']=ohe_diabetes"
   ]
  },
  {
   "cell_type": "code",
   "execution_count": 57,
   "id": "9176f2f1-182f-4a32-ad87-1b258c439b85",
   "metadata": {},
   "outputs": [],
   "source": [
    "#One Hot Encoding. \n",
    "ohe_digestive=pd.get_dummies(df['baseline_digestive'],drop_first=True)\n",
    "ohe_digestive.value_counts()\n",
    "df['baseline_digestive']=ohe_digestive"
   ]
  },
  {
   "cell_type": "code",
   "execution_count": 58,
   "id": "d8192d4f-9742-49d6-8377-902c50e10f18",
   "metadata": {},
   "outputs": [],
   "source": [
    "#One Hot Encoding. \n",
    "ohe_osteoart=pd.get_dummies(df['baseline_osteoart'],drop_first=True)\n",
    "ohe_osteoart.value_counts()\n",
    "df['baseline_osteoart']=ohe_osteoart"
   ]
  },
  {
   "cell_type": "code",
   "execution_count": 59,
   "id": "32df6053-db68-4eae-a6fe-4d82032e62f9",
   "metadata": {},
   "outputs": [],
   "source": [
    "#One Hot Encoding. \n",
    "ohe_psych=pd.get_dummies(df['baseline_psych'],drop_first=True)\n",
    "ohe_psych.value_counts()\n",
    "df['baseline_psych']=ohe_psych"
   ]
  },
  {
   "cell_type": "code",
   "execution_count": 60,
   "id": "1302ca33-c51c-4199-831c-b611b3d126c6",
   "metadata": {},
   "outputs": [],
   "source": [
    "#One Hot Encoding. \n",
    "ohe_pulmonary=pd.get_dummies(df['baseline_pulmonary'],drop_first=True)\n",
    "ohe_pulmonary.value_counts()\n",
    "df['baseline_pulmonary']=ohe_pulmonary"
   ]
  },
  {
   "cell_type": "markdown",
   "id": "3987363a-bcac-43c4-b94b-2f1c43405d88",
   "metadata": {},
   "source": [
    "### 4. Construcción del Pipeline. "
   ]
  },
  {
   "cell_type": "markdown",
   "id": "7d0921ab-6293-49c4-bad9-e689deb2ef40",
   "metadata": {},
   "source": [
    "#### 4.1 Train Test Split para Entrenamiento y Prueba"
   ]
  },
  {
   "cell_type": "code",
   "execution_count": 61,
   "id": "5ad80df9-a9c1-410b-b4de-4a698c8de9a5",
   "metadata": {},
   "outputs": [],
   "source": [
    "from sklearn.model_selection import train_test_split\n",
    "\n",
    "# Define tus características y la variable objetivo\n",
    "X = df.drop(['complication'], axis=1)\n",
    "y = df['complication']\n",
    "\n",
    "# Divide los datos en conjuntos de entrenamiento y prueba\n",
    "X_train, X_test, y_train, y_test = train_test_split(X, y, test_size=0.3, random_state=2022)\n"
   ]
  },
  {
   "cell_type": "code",
   "execution_count": 62,
   "id": "d84ab46a-dd28-493d-827b-1bcccf5dc9e3",
   "metadata": {},
   "outputs": [],
   "source": [
    "# Imputación de variables categóricas\n",
    "VARS_CATEGORICAS_CON_NA_FRECUENTE = ['baseline_cancer', 'baseline_cvd', 'baseline_dementia', \n",
    "                                     'baseline_diabetes', 'baseline_digestive', 'baseline_osteoart', \n",
    "                                     'baseline_psych', 'baseline_pulmonary']\n",
    "\n",
    "# Imputación de variables numéricas\n",
    "VARS_NUMERICAS_CON_NA = ['bmi', 'Age','ccsMort30Rate','hour']\n",
    "\n",
    "# Variables para transformación logarítmica\n",
    "VARS_NUMERICAS_LOG = ['bmi', 'Age']\n",
    "\n",
    "# Variables para codificación por frecuencia (no ordinal)\n",
    "VARS_CATEGORICAS = ['asa_status', 'ahrq_ccs', 'dow', 'gender', 'month', 'moonphase', 'mort30', 'race']\n",
    "\n",
    "# Variables a utilizar en el entrenamiento\n",
    "FEATURES = [\n",
    "    'bmi', 'Age', 'asa_status', 'baseline_cancer', 'baseline_charlson', \n",
    "    'baseline_cvd', 'baseline_dementia', 'baseline_diabetes', \n",
    "    'baseline_digestive', 'baseline_osteoart', 'baseline_psych', \n",
    "    'baseline_pulmonary', 'ahrq_ccs', 'ccsComplicationRate', 'ccsMort30Rate', \n",
    "    'complication_rsi', 'dow', 'gender', 'hour', 'month', 'moonphase', 'mort30', \n",
    "    'mortality_rsi', 'race'\n",
    "]\n"
   ]
  },
  {
   "cell_type": "code",
   "execution_count": 63,
   "id": "2c345b54-6464-4c5b-9bd6-d2247ed975cd",
   "metadata": {},
   "outputs": [],
   "source": [
    "# Convertir las variables categóricas a tipo object\n",
    "for var in VARS_CATEGORICAS:\n",
    "    X_train[var] = X_train[var].astype('object')\n",
    "    X_test[var] = X_test[var].astype('object')"
   ]
  },
  {
   "cell_type": "code",
   "execution_count": 64,
   "id": "93c65b41-8098-4ea2-aecf-1dea52410275",
   "metadata": {},
   "outputs": [],
   "source": [
    "X_train = X_train[FEATURES]"
   ]
  },
  {
   "cell_type": "code",
   "execution_count": 65,
   "id": "846af3f1-4a1c-46ac-b730-2785e4ab9b74",
   "metadata": {},
   "outputs": [],
   "source": [
    "y_train = np.log(y_train + 0.01)\n",
    "y_test = np.log(y_test + 0.01)\n"
   ]
  },
  {
   "cell_type": "markdown",
   "id": "fc151c50-1b87-426b-9e5f-d9ecbd8b322f",
   "metadata": {},
   "source": [
    "#### 4.2 Construcción del pipeline"
   ]
  },
  {
   "cell_type": "code",
   "execution_count": 66,
   "id": "e660913d-7ebf-4f7b-8db8-65a0b628dc52",
   "metadata": {},
   "outputs": [],
   "source": [
    "complication_pipeline_v29062023 = Pipeline([\n",
    "    \n",
    "    #=========== IMPUTACIONES ===============\n",
    "    \n",
    "    \n",
    "    #1. Indicador faltante en variables numericas para imputación\n",
    "    ('missing_indicator_numeric',\n",
    "        AddMissingIndicator(variables=VARS_CATEGORICAS_CON_NA_FRECUENTE)\n",
    "    ),\n",
    "    \n",
    "    #2. Imputación de variables numéricas\n",
    "    ('mean_imputation',\n",
    "        MeanMedianImputer(imputation_method='mean', variables=VARS_CATEGORICAS_CON_NA_FRECUENTE)\n",
    "    ),\n",
    "    \n",
    "    \n",
    "    \n",
    "    #============= CODIFICACIÓN DE VARIABLES CATEGORICAS NOMINALES ==================\n",
    "    ('rare_label_encoder',\n",
    "        RareLabelEncoder(n_categories=1, tol=0.01, variables=VARS_CATEGORICAS)\n",
    "    ),\n",
    "    \n",
    "    ('categorical_encoder',\n",
    "        OrdinalEncoder(encoding_method='ordered', variables=VARS_CATEGORICAS)\n",
    "    ),\n",
    "    \n",
    "    #=============== TRANSFORMACIÓN DE VARIABLES CONTINUAS ============\n",
    "    ('log_transformer',\n",
    "        LogTransformer(variables=VARS_NUMERICAS_LOG)\n",
    "    ),\n",
    "    \n",
    "    \n",
    "     #=============== SCALER ============\n",
    "    ('scaler',\n",
    "        MinMaxScaler()\n",
    "    ),\n",
    "    \n",
    "    ('modelo_lasso', \n",
    "         Lasso(alpha=0.01, random_state=2022)\n",
    "    )\n",
    "])"
   ]
  },
  {
   "cell_type": "code",
   "execution_count": 67,
   "id": "eb2e98a6-4d72-43ee-abe0-3d1413e2099d",
   "metadata": {},
   "outputs": [
    {
     "data": {
      "text/plain": [
       "Pipeline(steps=[('missing_indicator_numeric',\n",
       "                 AddMissingIndicator(variables=['baseline_cancer',\n",
       "                                                'baseline_cvd',\n",
       "                                                'baseline_dementia',\n",
       "                                                'baseline_diabetes',\n",
       "                                                'baseline_digestive',\n",
       "                                                'baseline_osteoart',\n",
       "                                                'baseline_psych',\n",
       "                                                'baseline_pulmonary'])),\n",
       "                ('mean_imputation',\n",
       "                 MeanMedianImputer(imputation_method='mean',\n",
       "                                   variables=['baseline_cancer', 'baseline_cvd',\n",
       "                                              'baseline_dem...\n",
       "                                  variables=['asa_status', 'ahrq_ccs', 'dow',\n",
       "                                             'gender', 'month', 'moonphase',\n",
       "                                             'mort30', 'race'])),\n",
       "                ('categorical_encoder',\n",
       "                 OrdinalEncoder(variables=['asa_status', 'ahrq_ccs', 'dow',\n",
       "                                           'gender', 'month', 'moonphase',\n",
       "                                           'mort30', 'race'])),\n",
       "                ('log_transformer', LogTransformer(variables=['bmi', 'Age'])),\n",
       "                ('scaler', MinMaxScaler()),\n",
       "                ('modelo_lasso', Lasso(alpha=0.01, random_state=2022))])"
      ]
     },
     "execution_count": 67,
     "metadata": {},
     "output_type": "execute_result"
    }
   ],
   "source": [
    "complication_pipeline_v29062023.fit(X_train, y_train)"
   ]
  },
  {
   "cell_type": "code",
   "execution_count": null,
   "id": "acfbf551-51d1-4288-b80b-96d541d76f1f",
   "metadata": {},
   "outputs": [],
   "source": []
  }
 ],
 "metadata": {
  "kernelspec": {
   "display_name": "Python 3 (ipykernel)",
   "language": "python",
   "name": "python3"
  },
  "language_info": {
   "codemirror_mode": {
    "name": "ipython",
    "version": 3
   },
   "file_extension": ".py",
   "mimetype": "text/x-python",
   "name": "python",
   "nbconvert_exporter": "python",
   "pygments_lexer": "ipython3",
   "version": "3.9.13"
  }
 },
 "nbformat": 4,
 "nbformat_minor": 5
}
